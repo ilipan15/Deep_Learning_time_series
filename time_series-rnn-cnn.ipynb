{
  "cells": [
    {
      "cell_type": "code",
      "execution_count": 2,
      "metadata": {
        "id": "QzfYat77vXQ4"
      },
      "outputs": [],
      "source": [
        "### --- Importing the Libraries\n",
        "import pickle \n",
        "import numpy as np\n",
        "import os\n",
        "from pathlib import Path\n",
        "import tensorflow as tf\n",
        "import pandas as pd\n",
        "import matplotlib.pyplot as plt\n",
        "from tensorflow.keras.models import Sequential\n",
        "from tensorflow.keras.layers import Flatten, Dense, SimpleRNN, BatchNormalization, LSTM, Conv1D, Embedding, GRU\n",
        "from tensorflow.keras.optimizers import Adam, Nadam\n",
        "from tensorflow.keras.metrics import mean_squared_error\n",
        "from tensorflow.keras.metrics import sparse_categorical_crossentropy\n",
        "from tensorflow.data import Dataset, TFRecordDataset\n",
        "from sklearn import preprocessing\n",
        "from sklearn.metrics import confusion_matrix\n",
        "from sklearn import metrics\n",
        "from sklearn.preprocessing import OrdinalEncoder\n",
        "from sklearn.metrics import roc_auc_score\n",
        "from sklearn.model_selection import train_test_split\n",
        "from sklearn.metrics import mean_absolute_error\n",
        "from tensorflow.keras.applications.mobilenet import MobileNet, preprocess_input\n",
        "from tensorflow.keras.applications.xception import Xception\n",
        "from tensorflow.keras.layers import Flatten, Dense, SimpleRNN, BatchNormalization, LSTM, Conv1D, Embedding, GRU, Conv2D , Dropout\n",
        "from tensorflow.keras.layers import Conv2D, MaxPooling2D, GlobalAveragePooling2D, UpSampling2D, MaxPool2D\n",
        "from keras.utils.np_utils import to_categorical\n",
        "from tensorflow.keras.utils import to_categorical\n",
        "from tensorflow.keras import backend as K\n"
      ]
    },
    {
      "cell_type": "code",
      "execution_count": 3,
      "metadata": {
        "id": "u96T76bivXQ9"
      },
      "outputs": [],
      "source": [
        "### --- Loading the Dataset\n",
        "with open('time_series_1.pickle', 'rb') as handle:\n",
        "    time_series_1 = pickle.load(handle)\n",
        "with open('time_series_2.pickle', 'rb') as handle:\n",
        "    time_series_2 = pickle.load(handle)\n",
        "with open('y.pickle', 'rb') as handle:\n",
        "    y = pickle.load(handle)"
      ]
    },
    {
      "cell_type": "code",
      "execution_count": null,
      "metadata": {
        "colab": {
          "base_uri": "https://localhost:8080/"
        },
        "id": "b7ZpJIz6vXQ-",
        "outputId": "a530167f-0ff8-4770-d1e6-c17f89826bb2"
      },
      "outputs": [
        {
          "name": "stdout",
          "output_type": "stream",
          "text": [
            "(4000, 5000)\n",
            "(4000, 5000)\n",
            "(4000,)\n"
          ]
        }
      ],
      "source": [
        "### --- printing the shapes of the data\n",
        "print(time_series_1.shape)\n",
        "print(time_series_2.shape)\n",
        "print(y.shape)\n"
      ]
    },
    {
      "cell_type": "code",
      "execution_count": null,
      "metadata": {
        "id": "2IzKJpJOvXRA"
      },
      "outputs": [],
      "source": [
        "### --- Combining the two time series vertically with np.dstack \n",
        "combined = np.dstack((time_series_1, time_series_2))"
      ]
    },
    {
      "cell_type": "code",
      "execution_count": null,
      "metadata": {
        "colab": {
          "base_uri": "https://localhost:8080/"
        },
        "id": "Su2XYjIbbPAt",
        "outputId": "e2d5f8ab-3019-49a6-f410-9333e6047551"
      },
      "outputs": [
        {
          "data": {
            "text/plain": [
              "(4000, 5000, 2)"
            ]
          },
          "execution_count": 6,
          "metadata": {},
          "output_type": "execute_result"
        }
      ],
      "source": [
        "### --- printing the shape of the combined time series\n",
        "combined.shape"
      ]
    },
    {
      "cell_type": "code",
      "execution_count": null,
      "metadata": {
        "colab": {
          "base_uri": "https://localhost:8080/"
        },
        "id": "F4x79TYmvXRA",
        "outputId": "638eb1ce-f92a-4df7-f201-fb47bc0f5a14"
      },
      "outputs": [
        {
          "data": {
            "text/plain": [
              "array([[1.],\n",
              "       [2.],\n",
              "       [3.],\n",
              "       ...,\n",
              "       [3.],\n",
              "       [3.],\n",
              "       [1.]])"
            ]
          },
          "execution_count": 7,
          "metadata": {},
          "output_type": "execute_result"
        }
      ],
      "source": [
        "### --- Reshaping the y \n",
        "y1 = y.reshape(4000, 1)\n",
        "y1"
      ]
    },
    {
      "cell_type": "code",
      "execution_count": null,
      "metadata": {
        "colab": {
          "base_uri": "https://localhost:8080/"
        },
        "id": "qo0GmmtivXRB",
        "outputId": "4e7136bf-53b0-4926-c7a2-0695e067ee86"
      },
      "outputs": [
        {
          "data": {
            "text/plain": [
              "(4000,)"
            ]
          },
          "execution_count": 8,
          "metadata": {},
          "output_type": "execute_result"
        }
      ],
      "source": [
        "y.shape"
      ]
    },
    {
      "cell_type": "code",
      "execution_count": null,
      "metadata": {
        "colab": {
          "base_uri": "https://localhost:8080/"
        },
        "id": "8EpBVeTXvXRB",
        "outputId": "f369b071-0cbc-4a8a-c050-0e4110d082c8"
      },
      "outputs": [
        {
          "name": "stdout",
          "output_type": "stream",
          "text": [
            "(2800, 5000, 2)\n",
            "(2800, 1)\n",
            "(600, 5000, 2)\n"
          ]
        }
      ],
      "source": [
        "### --- Splitting into train-validation and test set\n",
        "np.random.seed(132)\n",
        "seq_steps = 5000\n",
        "\n",
        "X_train, y_train = combined[:2800, :seq_steps], y1[:2800,]\n",
        "X_valid, y_valid = combined[2800:3400, :seq_steps], y1[2800:3400,]\n",
        "X_test, y_test = combined[3400:, :seq_steps], y1[3400:,]\n",
        "\n",
        "### --- Printing the sets\n",
        "print(X_train.shape)\n",
        "print(y_train.shape)\n",
        "print(X_valid.shape)                                               "
      ]
    },
    {
      "cell_type": "markdown",
      "metadata": {
        "id": "ZUJYRaxovXRD"
      },
      "source": [
        "# Question 1\n",
        "*Create a reccurent neural network in TensorFlow to predict the operating mode of a wind turbine base on two time series from the sensors. Before any implementation, carefully consider what type of approach (sequence-to-vector, sequence-to-sequence, or encoder-decoder) is most sensible here and how you need to manipulate the data, given that you have two different time series for each observation.*\n",
        "\n",
        "\n",
        "*Then, make sure that you try out the different layers and elements discussed in class, such as SimpleRNN, LSTM and Conv1D - while a certain amount of trial and error will be necessary, it is recommended that you tune your network systematically. Make sure to record your final validation set accuracy.*"
      ]
    },
    {
      "cell_type": "code",
      "execution_count": null,
      "metadata": {
        "id": "SfUdAP3BIli_"
      },
      "outputs": [],
      "source": [
        "### --- Creating a pre-defined function for training and plotting the model, so that we have to do less repetitions when creating all sorts of different models.\n",
        "def train_plot(model, learning_rate = 0.001, epochs = 30):\n",
        "    np.random.seed(312)\n",
        "    tf.random.set_seed(312)\n",
        "\n",
        "    model.compile(loss=\"sparse_categorical_crossentropy\",\n",
        "                  optimizer=Adam(learning_rate = learning_rate),metrics=['accuracy'])\n",
        "    early_stopping_cb = tf.keras.callbacks.EarlyStopping(patience = 10, restore_best_weights=True)\n",
        "    log = model.fit(X_train, y_train, epochs=epochs,\n",
        "                        validation_data=(X_valid, y_valid),\n",
        "                   callbacks = [early_stopping_cb])\n",
        "    \n",
        "    plt.plot(log.history['loss'],label = \"training loss\",color='darkgreen')\n",
        "    plt.plot(log.history['val_loss'], label = \"validation loss\",color='darkblue')\n",
        "    plt.legend()\n",
        "    plt.show()\n",
        "    \n",
        "    y_pred = model.predict(X_valid)\n",
        "    \n",
        "    return model, log"
      ]
    },
    {
      "cell_type": "markdown",
      "metadata": {
        "id": "Ijocg6MLm4Sz"
      },
      "source": [
        "**For all the models below, simple RNN, LSTM, GRU and Conv1D, activation softmax has been used in the output layer, because the problem has multi class classification(0,1,2,3).** "
      ]
    },
    {
      "cell_type": "markdown",
      "metadata": {
        "id": "cimy_t60vXRF"
      },
      "source": [
        "## A simple RNN "
      ]
    },
    {
      "cell_type": "markdown",
      "metadata": {
        "id": "B4mZs4YMfg7D"
      },
      "source": [
        "Trying out a simple RNN: one layer with 50 units and an output layer."
      ]
    },
    {
      "cell_type": "code",
      "execution_count": null,
      "metadata": {
        "colab": {
          "base_uri": "https://localhost:8080/"
        },
        "id": "WqE1-_4nvXRG",
        "outputId": "884aa89b-b2a9-4d22-9be0-9b312d551295"
      },
      "outputs": [
        {
          "name": "stdout",
          "output_type": "stream",
          "text": [
            "Model: \"sequential\"\n",
            "_________________________________________________________________\n",
            " Layer (type)                Output Shape              Param #   \n",
            "=================================================================\n",
            " simple_rnn (SimpleRNN)      (None, 50)                2650      \n",
            "                                                                 \n",
            " dense (Dense)               (None, 4)                 204       \n",
            "                                                                 \n",
            "=================================================================\n",
            "Total params: 2,854\n",
            "Trainable params: 2,854\n",
            "Non-trainable params: 0\n",
            "_________________________________________________________________\n"
          ]
        }
      ],
      "source": [
        "### --- Trying a Simple RNN with 50 units and output equal to 4 \n",
        "model_simple_RNN = Sequential([\n",
        "    SimpleRNN(50, return_sequences=False, input_shape=[None, 2]),\n",
        "    Dense(4, activation = \"softmax\")\n",
        "])\n",
        "\n",
        "model_simple_RNN.summary()  "
      ]
    },
    {
      "cell_type": "code",
      "execution_count": null,
      "metadata": {
        "colab": {
          "background_save": true,
          "base_uri": "https://localhost:8080/"
        },
        "id": "-gT8y9yQ-_oG",
        "outputId": "707ef298-13a3-4312-ac67-3a9a67541b06"
      },
      "outputs": [
        {
          "name": "stdout",
          "output_type": "stream",
          "text": [
            "Epoch 1/30\n",
            "88/88 [==============================] - 83s 935ms/step - loss: 1.3682 - accuracy: 0.2989 - val_loss: 1.3515 - val_accuracy: 0.3267\n",
            "Epoch 2/30\n",
            "88/88 [==============================] - 98s 1s/step - loss: 1.3163 - accuracy: 0.3518 - val_loss: 1.3243 - val_accuracy: 0.3700\n",
            "Epoch 3/30\n",
            "88/88 [==============================] - 102s 1s/step - loss: 1.2923 - accuracy: 0.3896 - val_loss: 1.2861 - val_accuracy: 0.3900\n",
            "Epoch 4/30\n",
            "88/88 [==============================] - 99s 1s/step - loss: 1.2665 - accuracy: 0.4114 - val_loss: 1.2594 - val_accuracy: 0.4150\n",
            "Epoch 5/30\n",
            "88/88 [==============================] - 94s 1s/step - loss: 1.2348 - accuracy: 0.4350 - val_loss: 1.2252 - val_accuracy: 0.4500\n",
            "Epoch 6/30\n",
            "88/88 [==============================] - 86s 984ms/step - loss: 1.2104 - accuracy: 0.4529 - val_loss: 1.2108 - val_accuracy: 0.4383\n",
            "Epoch 7/30\n",
            "88/88 [==============================] - 77s 874ms/step - loss: 1.1905 - accuracy: 0.4529 - val_loss: 1.1749 - val_accuracy: 0.4850\n",
            "Epoch 8/30\n",
            "88/88 [==============================] - 74s 842ms/step - loss: 1.1639 - accuracy: 0.4639 - val_loss: 1.1684 - val_accuracy: 0.4667\n",
            "Epoch 9/30\n",
            "88/88 [==============================] - 74s 837ms/step - loss: 1.1251 - accuracy: 0.5054 - val_loss: 1.1228 - val_accuracy: 0.5167\n",
            "Epoch 10/30\n",
            "88/88 [==============================] - 73s 834ms/step - loss: 1.1069 - accuracy: 0.5150 - val_loss: 1.1023 - val_accuracy: 0.5300\n",
            "Epoch 11/30\n",
            "88/88 [==============================] - 73s 833ms/step - loss: 1.0988 - accuracy: 0.5136 - val_loss: 1.0946 - val_accuracy: 0.5350\n",
            "Epoch 12/30\n",
            "88/88 [==============================] - 73s 833ms/step - loss: 1.0656 - accuracy: 0.5436 - val_loss: 1.0961 - val_accuracy: 0.5200\n",
            "Epoch 13/30\n",
            "88/88 [==============================] - 73s 832ms/step - loss: 1.0471 - accuracy: 0.5493 - val_loss: 1.0767 - val_accuracy: 0.5433\n",
            "Epoch 14/30\n",
            "88/88 [==============================] - 73s 830ms/step - loss: 1.0461 - accuracy: 0.5418 - val_loss: 1.0693 - val_accuracy: 0.5417\n",
            "Epoch 15/30\n",
            "88/88 [==============================] - 73s 833ms/step - loss: 1.0381 - accuracy: 0.5429 - val_loss: 1.0717 - val_accuracy: 0.5483\n",
            "Epoch 16/30\n",
            "88/88 [==============================] - 73s 834ms/step - loss: 1.0179 - accuracy: 0.5536 - val_loss: 1.0627 - val_accuracy: 0.5483\n",
            "Epoch 17/30\n",
            "88/88 [==============================] - 73s 831ms/step - loss: 1.0126 - accuracy: 0.5532 - val_loss: 1.0747 - val_accuracy: 0.5350\n",
            "Epoch 18/30\n",
            "88/88 [==============================] - 73s 832ms/step - loss: 1.0117 - accuracy: 0.5568 - val_loss: 1.0583 - val_accuracy: 0.5467\n",
            "Epoch 19/30\n",
            "88/88 [==============================] - 73s 831ms/step - loss: 1.0003 - accuracy: 0.5618 - val_loss: 1.0700 - val_accuracy: 0.5567\n",
            "Epoch 20/30\n",
            "88/88 [==============================] - 73s 832ms/step - loss: 0.9985 - accuracy: 0.5657 - val_loss: 1.0735 - val_accuracy: 0.5283\n",
            "Epoch 21/30\n",
            "88/88 [==============================] - 73s 831ms/step - loss: 1.0017 - accuracy: 0.5511 - val_loss: 1.0241 - val_accuracy: 0.5500\n",
            "Epoch 22/30\n",
            "88/88 [==============================] - 73s 831ms/step - loss: 0.9952 - accuracy: 0.5529 - val_loss: 1.0758 - val_accuracy: 0.5417\n",
            "Epoch 23/30\n",
            "88/88 [==============================] - 73s 825ms/step - loss: 0.9828 - accuracy: 0.5654 - val_loss: 1.0250 - val_accuracy: 0.5467\n",
            "Epoch 24/30\n",
            "88/88 [==============================] - 73s 830ms/step - loss: 0.9745 - accuracy: 0.5732 - val_loss: 1.0285 - val_accuracy: 0.5450\n",
            "Epoch 25/30\n",
            "88/88 [==============================] - 72s 823ms/step - loss: 1.0104 - accuracy: 0.5454 - val_loss: 1.0949 - val_accuracy: 0.5000\n",
            "Epoch 26/30\n",
            "88/88 [==============================] - 73s 825ms/step - loss: 1.0633 - accuracy: 0.5279 - val_loss: 1.5006 - val_accuracy: 0.2883\n",
            "Epoch 27/30\n",
            "88/88 [==============================] - 73s 825ms/step - loss: 1.2567 - accuracy: 0.4179 - val_loss: 1.2385 - val_accuracy: 0.4283\n",
            "Epoch 28/30\n",
            "88/88 [==============================] - 72s 824ms/step - loss: 1.1910 - accuracy: 0.4657 - val_loss: 1.1947 - val_accuracy: 0.4500\n",
            "Epoch 29/30\n",
            "88/88 [==============================] - 72s 822ms/step - loss: 1.1625 - accuracy: 0.4850 - val_loss: 1.1696 - val_accuracy: 0.4883\n",
            "Epoch 30/30\n",
            "88/88 [==============================] - 72s 820ms/step - loss: 1.1358 - accuracy: 0.4939 - val_loss: 1.1551 - val_accuracy: 0.4717\n"
          ]
        },
        {
          "data": {
            "image/png": "[encoded data removed]",
            "text/plain": [
              "<Figure size 432x288 with 1 Axes>"
            ]
          },
          "metadata": {},
          "output_type": "display_data"
        },
        {
          "data": {
            "text/plain": [
              "(<keras.engine.sequential.Sequential at 0x7f91560dc790>,\n",
              " <keras.callbacks.History at 0x7f9151e90910>)"
            ]
          },
          "execution_count": null,
          "metadata": {},
          "output_type": "execute_result"
        }
      ],
      "source": [
        "### --- Training and plotting the Simple RNN model\n",
        "train_plot(model_simple_RNN)"
      ]
    },
    {
      "cell_type": "code",
      "execution_count": null,
      "metadata": {
        "colab": {
          "background_save": true
        },
        "id": "lr13eYVY-17x",
        "outputId": "759ddcbb-7cf6-4118-ed02-97c6a80c76bf"
      },
      "outputs": [
        {
          "name": "stdout",
          "output_type": "stream",
          "text": [
            "19/19 [==============================] - 3s 163ms/step - loss: 1.1551 - accuracy: 0.4717\n",
            "Validation score: 1.155062198638916\n",
            "Validation accuracy: 0.4716666638851166\n"
          ]
        }
      ],
      "source": [
        "### --- Evaluating the Simple RNN model\n",
        "score, acc = model_simple_RNN.evaluate(X_valid, y_valid)\n",
        "\n",
        "print('Validation score:', score)\n",
        "print('Validation accuracy:', acc)"
      ]
    },
    {
      "cell_type": "markdown",
      "metadata": {
        "id": "wc-Inl97vXRI"
      },
      "source": [
        "## Using LSTMs"
      ]
    },
    {
      "cell_type": "markdown",
      "metadata": {
        "id": "jqhXyyhDimep"
      },
      "source": [
        "Creating a LSTM model with multiple layers, so we need to set return_sequences = True so that all outputs are passed to the next layer, otherwise only the last outpout is passed to the next layer.\n",
        "\n",
        "\n"
      ]
    },
    {
      "cell_type": "code",
      "execution_count": null,
      "metadata": {
        "colab": {
          "background_save": true
        },
        "id": "gGLUbppPvXRI",
        "outputId": "f15b6d5e-f48a-45f2-c5e4-c9199f270c0d"
      },
      "outputs": [
        {
          "name": "stdout",
          "output_type": "stream",
          "text": [
            "Model: \"sequential_1\"\n",
            "_________________________________________________________________\n",
            " Layer (type)                Output Shape              Param #   \n",
            "=================================================================\n",
            " lstm (LSTM)                 (None, None, 20)          1840      \n",
            "                                                                 \n",
            " lstm_1 (LSTM)               (None, None, 20)          3280      \n",
            "                                                                 \n",
            " lstm_2 (LSTM)               (None, 20)                3280      \n",
            "                                                                 \n",
            " dense_1 (Dense)             (None, 10)                210       \n",
            "                                                                 \n",
            "=================================================================\n",
            "Total params: 8,610\n",
            "Trainable params: 8,610\n",
            "Non-trainable params: 0\n",
            "_________________________________________________________________\n"
          ]
        }
      ],
      "source": [
        "## --- Creating a LSTM model with 3 layers and a Dense leyer with 10 output and activation softmax\n",
        "model_LSTM = Sequential([\n",
        "    LSTM(20, return_sequences= True , input_shape=[None, 2]), # --- Setting return sequences = True, because there is a following \n",
        "    LSTM(20 , return_sequences= True),                         # LSTM layer and all outputs need to be passed to the next layer\n",
        "    LSTM(20),\n",
        "    Dense(10, activation ='softmax')\n",
        "])\n",
        "model_LSTM.summary()"
      ]
    },
    {
      "cell_type": "code",
      "execution_count": null,
      "metadata": {
        "colab": {
          "background_save": true
        },
        "id": "8e2w_i74vXRJ",
        "outputId": "277958e8-d1b9-4d40-cfc4-7c33317e95e1"
      },
      "outputs": [
        {
          "name": "stdout",
          "output_type": "stream",
          "text": [
            "Epoch 1/30\n",
            "88/88 [==============================] - 726s 8s/step - loss: 1.6269 - accuracy: 0.2479 - val_loss: 1.4259 - val_accuracy: 0.2550\n",
            "Epoch 2/30\n",
            "88/88 [==============================] - 719s 8s/step - loss: 1.4099 - accuracy: 0.2504 - val_loss: 1.4033 - val_accuracy: 0.2550\n",
            "Epoch 3/30\n",
            "88/88 [==============================] - 724s 8s/step - loss: 1.3991 - accuracy: 0.2546 - val_loss: 1.3934 - val_accuracy: 0.2550\n",
            "Epoch 4/30\n",
            "88/88 [==============================] - 723s 8s/step - loss: 1.3928 - accuracy: 0.2736 - val_loss: 1.3904 - val_accuracy: 0.2867\n",
            "Epoch 5/30\n",
            "88/88 [==============================] - 724s 8s/step - loss: 1.3876 - accuracy: 0.2789 - val_loss: 1.3853 - val_accuracy: 0.2933\n",
            "Epoch 6/30\n",
            "88/88 [==============================] - 723s 8s/step - loss: 1.3789 - accuracy: 0.2932 - val_loss: 1.3760 - val_accuracy: 0.3433\n",
            "Epoch 7/30\n",
            "88/88 [==============================] - 723s 8s/step - loss: 1.3682 - accuracy: 0.3332 - val_loss: 1.3687 - val_accuracy: 0.2983\n",
            "Epoch 8/30\n",
            "88/88 [==============================] - 724s 8s/step - loss: 1.3521 - accuracy: 0.3429 - val_loss: 1.3668 - val_accuracy: 0.2917\n",
            "Epoch 9/30\n",
            "88/88 [==============================] - 725s 8s/step - loss: 1.3368 - accuracy: 0.3629 - val_loss: 1.3474 - val_accuracy: 0.3467\n",
            "Epoch 10/30\n",
            "88/88 [==============================] - 724s 8s/step - loss: 1.3295 - accuracy: 0.3511 - val_loss: 1.3587 - val_accuracy: 0.3367\n",
            "Epoch 11/30\n",
            "88/88 [==============================] - 725s 8s/step - loss: 1.3219 - accuracy: 0.3743 - val_loss: 1.3355 - val_accuracy: 0.3583\n",
            "Epoch 12/30\n",
            "88/88 [==============================] - 727s 8s/step - loss: 1.3103 - accuracy: 0.3775 - val_loss: 1.3469 - val_accuracy: 0.3233\n",
            "Epoch 13/30\n",
            "88/88 [==============================] - 725s 8s/step - loss: 1.3039 - accuracy: 0.3811 - val_loss: 1.3283 - val_accuracy: 0.3750\n",
            "Epoch 14/30\n",
            "88/88 [==============================] - 720s 8s/step - loss: 1.3002 - accuracy: 0.3907 - val_loss: 1.3299 - val_accuracy: 0.3617\n",
            "Epoch 15/30\n",
            "88/88 [==============================] - 721s 8s/step - loss: 1.2993 - accuracy: 0.3864 - val_loss: 1.3250 - val_accuracy: 0.3883\n",
            "Epoch 16/30\n",
            "88/88 [==============================] - 725s 8s/step - loss: 1.2910 - accuracy: 0.3929 - val_loss: 1.3267 - val_accuracy: 0.3783\n",
            "Epoch 17/30\n",
            "88/88 [==============================] - 721s 8s/step - loss: 1.2911 - accuracy: 0.3918 - val_loss: 1.3291 - val_accuracy: 0.3667\n",
            "Epoch 18/30\n",
            "88/88 [==============================] - 722s 8s/step - loss: 1.2861 - accuracy: 0.3929 - val_loss: 1.3171 - val_accuracy: 0.3817\n",
            "Epoch 19/30\n",
            "88/88 [==============================] - 721s 8s/step - loss: 1.2815 - accuracy: 0.3929 - val_loss: 1.3153 - val_accuracy: 0.3883\n",
            "Epoch 20/30\n",
            "88/88 [==============================] - 721s 8s/step - loss: 1.2761 - accuracy: 0.3950 - val_loss: 1.3223 - val_accuracy: 0.3717\n",
            "Epoch 21/30\n",
            "88/88 [==============================] - 724s 8s/step - loss: 1.2715 - accuracy: 0.4050 - val_loss: 1.3092 - val_accuracy: 0.3717\n",
            "Epoch 22/30\n",
            "88/88 [==============================] - 724s 8s/step - loss: 1.2563 - accuracy: 0.4129 - val_loss: 1.2868 - val_accuracy: 0.3817\n",
            "Epoch 23/30\n",
            "88/88 [==============================] - 726s 8s/step - loss: 1.2443 - accuracy: 0.4232 - val_loss: 1.2731 - val_accuracy: 0.3917\n",
            "Epoch 24/30\n",
            "88/88 [==============================] - 726s 8s/step - loss: 1.2233 - accuracy: 0.4386 - val_loss: 1.2561 - val_accuracy: 0.4067\n",
            "Epoch 25/30\n",
            "88/88 [==============================] - 726s 8s/step - loss: 1.2075 - accuracy: 0.4486 - val_loss: 1.2300 - val_accuracy: 0.4250\n",
            "Epoch 26/30\n",
            "88/88 [==============================] - 726s 8s/step - loss: 1.1928 - accuracy: 0.4625 - val_loss: 1.2219 - val_accuracy: 0.4283\n",
            "Epoch 27/30\n",
            "88/88 [==============================] - 727s 8s/step - loss: 1.1800 - accuracy: 0.4611 - val_loss: 1.2036 - val_accuracy: 0.4483\n",
            "Epoch 28/30\n",
            "88/88 [==============================] - 725s 8s/step - loss: 1.1745 - accuracy: 0.4621 - val_loss: 1.1869 - val_accuracy: 0.4300\n",
            "Epoch 29/30\n",
            "88/88 [==============================] - 727s 8s/step - loss: 1.1605 - accuracy: 0.4711 - val_loss: 1.1653 - val_accuracy: 0.4433\n",
            "Epoch 30/30\n",
            "88/88 [==============================] - 725s 8s/step - loss: 1.1533 - accuracy: 0.4707 - val_loss: 1.2047 - val_accuracy: 0.4317\n"
          ]
        },
        {
          "data": {
            "image/png": "[encoded data removed]",
            "text/plain": [
              "<Figure size 432x288 with 1 Axes>"
            ]
          },
          "metadata": {},
          "output_type": "display_data"
        },
        {
          "data": {
            "text/plain": [
              "(<keras.engine.sequential.Sequential at 0x7f91516dd850>,\n",
              " <keras.callbacks.History at 0x7f915156d210>)"
            ]
          },
          "execution_count": null,
          "metadata": {},
          "output_type": "execute_result"
        }
      ],
      "source": [
        "### --- training and plotting the LSTM model\n",
        "train_plot(model_LSTM)"
      ]
    },
    {
      "cell_type": "code",
      "execution_count": null,
      "metadata": {
        "colab": {
          "background_save": true
        },
        "id": "pEpC5KXwvXRJ",
        "outputId": "cbd44001-bca4-4981-885e-ac7b10004e91"
      },
      "outputs": [
        {
          "name": "stdout",
          "output_type": "stream",
          "text": [
            "19/19 [==============================] - 14s 729ms/step - loss: 1.2047 - accuracy: 0.4317\n",
            "Validation score: 1.204695463180542\n",
            "Validation accuracy: 0.43166667222976685\n"
          ]
        }
      ],
      "source": [
        "### --- Evaluating the LSTM  model\n",
        "score, acc = model_LSTM.evaluate(X_valid, y_valid)\n",
        "\n",
        "print('Validation score:', score)\n",
        "print('Validation accuracy:', acc)"
      ]
    },
    {
      "cell_type": "markdown",
      "metadata": {
        "id": "IeH8D5CFvXRK"
      },
      "source": [
        "## Using GRUs"
      ]
    },
    {
      "cell_type": "markdown",
      "metadata": {
        "id": "MtBUPsHLlYGA"
      },
      "source": [
        "Creating a GRUs model with multiple layers, so we need to set return_sequences = True so that all outputs are passed to the next layer, otherwise only the last output is passed to the next layer and the output is set to 4."
      ]
    },
    {
      "cell_type": "code",
      "execution_count": null,
      "metadata": {
        "colab": {
          "background_save": true
        },
        "id": "GQ0qWNjkvXRK",
        "outputId": "f9f57848-7092-4e0d-8e61-1125056d11d8"
      },
      "outputs": [
        {
          "name": "stdout",
          "output_type": "stream",
          "text": [
            "Model: \"sequential_2\"\n",
            "_________________________________________________________________\n",
            " Layer (type)                Output Shape              Param #   \n",
            "=================================================================\n",
            " gru (GRU)                   (None, None, 20)          1440      \n",
            "                                                                 \n",
            " gru_1 (GRU)                 (None, 20)                2520      \n",
            "                                                                 \n",
            " dense_2 (Dense)             (None, 4)                 84        \n",
            "                                                                 \n",
            "=================================================================\n",
            "Total params: 4,044\n",
            "Trainable params: 4,044\n",
            "Non-trainable params: 0\n",
            "_________________________________________________________________\n"
          ]
        }
      ],
      "source": [
        "### --- Creating a GRUs model\n",
        "model_GRUs = Sequential([\n",
        "    GRU(20, return_sequences=True, input_shape=[None, 2]),\n",
        "    GRU(20),\n",
        "    Dense(4,activation ='softmax')\n",
        "])\n",
        "model_GRUs.summary()"
      ]
    },
    {
      "cell_type": "code",
      "execution_count": null,
      "metadata": {
        "colab": {
          "background_save": true
        },
        "id": "MYOr13ZyvXRL",
        "outputId": "cac337ad-f0f8-4ba6-b88c-bc9cdcb5a0f0"
      },
      "outputs": [
        {
          "name": "stdout",
          "output_type": "stream",
          "text": [
            "Epoch 1/30\n",
            "88/88 [==============================] - 422s 5s/step - loss: 1.3752 - accuracy: 0.2982 - val_loss: 1.3325 - val_accuracy: 0.3850\n",
            "Epoch 2/30\n",
            "88/88 [==============================] - 416s 5s/step - loss: 1.2741 - accuracy: 0.4336 - val_loss: 1.2397 - val_accuracy: 0.4833\n",
            "Epoch 3/30\n",
            "88/88 [==============================] - 415s 5s/step - loss: 1.2063 - accuracy: 0.5025 - val_loss: 1.1584 - val_accuracy: 0.4967\n",
            "Epoch 4/30\n",
            "88/88 [==============================] - 417s 5s/step - loss: 1.1540 - accuracy: 0.5175 - val_loss: 1.1119 - val_accuracy: 0.5417\n",
            "Epoch 5/30\n",
            "88/88 [==============================] - 419s 5s/step - loss: 1.1120 - accuracy: 0.5454 - val_loss: 1.0911 - val_accuracy: 0.5750\n",
            "Epoch 6/30\n",
            "88/88 [==============================] - 417s 5s/step - loss: 1.0846 - accuracy: 0.5579 - val_loss: 1.0802 - val_accuracy: 0.5483\n",
            "Epoch 7/30\n",
            "88/88 [==============================] - 417s 5s/step - loss: 1.0575 - accuracy: 0.5686 - val_loss: 1.0346 - val_accuracy: 0.5683\n",
            "Epoch 8/30\n",
            "88/88 [==============================] - 416s 5s/step - loss: 1.0143 - accuracy: 0.5793 - val_loss: 1.0360 - val_accuracy: 0.5633\n",
            "Epoch 9/30\n",
            "88/88 [==============================] - 416s 5s/step - loss: 0.9893 - accuracy: 0.5850 - val_loss: 0.9878 - val_accuracy: 0.5667\n",
            "Epoch 10/30\n",
            "88/88 [==============================] - 416s 5s/step - loss: 0.9444 - accuracy: 0.6054 - val_loss: 0.9241 - val_accuracy: 0.6067\n",
            "Epoch 11/30\n",
            "88/88 [==============================] - 419s 5s/step - loss: 0.8923 - accuracy: 0.6307 - val_loss: 0.8975 - val_accuracy: 0.6000\n",
            "Epoch 12/30\n",
            "88/88 [==============================] - 417s 5s/step - loss: 0.8768 - accuracy: 0.6282 - val_loss: 0.8695 - val_accuracy: 0.6167\n",
            "Epoch 13/30\n",
            "88/88 [==============================] - 416s 5s/step - loss: 0.8419 - accuracy: 0.6457 - val_loss: 0.9386 - val_accuracy: 0.6050\n",
            "Epoch 14/30\n",
            "88/88 [==============================] - 417s 5s/step - loss: 0.8271 - accuracy: 0.6518 - val_loss: 0.8429 - val_accuracy: 0.6317\n",
            "Epoch 15/30\n",
            "88/88 [==============================] - 418s 5s/step - loss: 0.8041 - accuracy: 0.6664 - val_loss: 0.8199 - val_accuracy: 0.6533\n",
            "Epoch 16/30\n",
            "88/88 [==============================] - 417s 5s/step - loss: 0.7809 - accuracy: 0.6704 - val_loss: 0.7906 - val_accuracy: 0.6833\n",
            "Epoch 17/30\n",
            "88/88 [==============================] - 416s 5s/step - loss: 0.7662 - accuracy: 0.6736 - val_loss: 0.7937 - val_accuracy: 0.6667\n",
            "Epoch 18/30\n",
            "88/88 [==============================] - 416s 5s/step - loss: 0.7528 - accuracy: 0.6793 - val_loss: 0.7861 - val_accuracy: 0.6667\n",
            "Epoch 19/30\n",
            "88/88 [==============================] - 416s 5s/step - loss: 0.7286 - accuracy: 0.6925 - val_loss: 0.7253 - val_accuracy: 0.6917\n",
            "Epoch 20/30\n",
            "88/88 [==============================] - 416s 5s/step - loss: 0.6866 - accuracy: 0.7114 - val_loss: 0.7342 - val_accuracy: 0.6733\n",
            "Epoch 21/30\n",
            "88/88 [==============================] - 418s 5s/step - loss: 0.6927 - accuracy: 0.7161 - val_loss: 0.7232 - val_accuracy: 0.6983\n",
            "Epoch 22/30\n",
            "88/88 [==============================] - 418s 5s/step - loss: 0.6708 - accuracy: 0.7204 - val_loss: 0.7223 - val_accuracy: 0.6783\n",
            "Epoch 23/30\n",
            "88/88 [==============================] - 417s 5s/step - loss: 0.6604 - accuracy: 0.7189 - val_loss: 0.6906 - val_accuracy: 0.7150\n",
            "Epoch 24/30\n",
            "88/88 [==============================] - 418s 5s/step - loss: 0.6191 - accuracy: 0.7471 - val_loss: 0.6940 - val_accuracy: 0.6983\n",
            "Epoch 25/30\n",
            "88/88 [==============================] - 417s 5s/step - loss: 0.6184 - accuracy: 0.7471 - val_loss: 0.6783 - val_accuracy: 0.7217\n",
            "Epoch 26/30\n",
            "88/88 [==============================] - 417s 5s/step - loss: 0.6040 - accuracy: 0.7468 - val_loss: 0.6724 - val_accuracy: 0.7167\n",
            "Epoch 27/30\n",
            "88/88 [==============================] - 417s 5s/step - loss: 0.5880 - accuracy: 0.7543 - val_loss: 0.6764 - val_accuracy: 0.7117\n",
            "Epoch 28/30\n",
            "88/88 [==============================] - 417s 5s/step - loss: 0.5791 - accuracy: 0.7621 - val_loss: 0.6142 - val_accuracy: 0.7517\n",
            "Epoch 29/30\n",
            "88/88 [==============================] - 418s 5s/step - loss: 0.5600 - accuracy: 0.7704 - val_loss: 0.6512 - val_accuracy: 0.7333\n",
            "Epoch 30/30\n",
            "88/88 [==============================] - 416s 5s/step - loss: 0.5549 - accuracy: 0.7682 - val_loss: 0.6479 - val_accuracy: 0.7317\n"
          ]
        },
        {
          "data": {
            "image/png": "[encoded data removed]",
            "text/plain": [
              "<Figure size 432x288 with 1 Axes>"
            ]
          },
          "metadata": {},
          "output_type": "display_data"
        },
        {
          "data": {
            "text/plain": [
              "(<keras.engine.sequential.Sequential at 0x7f914fef9ed0>,\n",
              " <keras.callbacks.History at 0x7f914feabf10>)"
            ]
          },
          "execution_count": null,
          "metadata": {},
          "output_type": "execute_result"
        }
      ],
      "source": [
        "### --- Training and plotting the GRUs model\n",
        "train_plot(model_GRUs)"
      ]
    },
    {
      "cell_type": "code",
      "execution_count": null,
      "metadata": {
        "colab": {
          "background_save": true
        },
        "id": "yi2OgZwnl1vW",
        "outputId": "e262ff85-6d53-48ca-b816-0eb343017678"
      },
      "outputs": [
        {
          "name": "stdout",
          "output_type": "stream",
          "text": [
            "19/19 [==============================] - 8s 423ms/step - loss: 0.6479 - accuracy: 0.7317\n",
            "Validation score: 0.6479480862617493\n",
            "Validation accuracy: 0.7316666841506958\n"
          ]
        }
      ],
      "source": [
        "### --- Evalauting the GRU model\n",
        "score, acc = model_GRUs.evaluate(X_valid, y_valid)\n",
        "\n",
        "print('Validation score:', score)\n",
        "print('Validation accuracy:', acc)"
      ]
    },
    {
      "cell_type": "markdown",
      "metadata": {
        "id": "OJPMNkuhvXRL"
      },
      "source": [
        "## Using Conv1D"
      ]
    },
    {
      "cell_type": "markdown",
      "metadata": {
        "id": "pW99SDDBl0HN"
      },
      "source": [
        "Creating and training One-dimensional convolutional with two GRU layers and an output layer of 4.\n"
      ]
    },
    {
      "cell_type": "code",
      "execution_count": null,
      "metadata": {
        "colab": {
          "background_save": true
        },
        "id": "r98gc01ivXRL",
        "outputId": "82f14437-35eb-447c-8435-a680bf452def"
      },
      "outputs": [
        {
          "name": "stdout",
          "output_type": "stream",
          "text": [
            "Model: \"sequential_3\"\n",
            "_________________________________________________________________\n",
            " Layer (type)                Output Shape              Param #   \n",
            "=================================================================\n",
            " conv1d (Conv1D)             (None, None, 20)          180       \n",
            "                                                                 \n",
            " gru_2 (GRU)                 (None, None, 20)          2520      \n",
            "                                                                 \n",
            " gru_3 (GRU)                 (None, 40)                7440      \n",
            "                                                                 \n",
            " dense_3 (Dense)             (None, 4)                 164       \n",
            "                                                                 \n",
            "=================================================================\n",
            "Total params: 10,304\n",
            "Trainable params: 10,304\n",
            "Non-trainable params: 0\n",
            "_________________________________________________________________\n"
          ]
        }
      ],
      "source": [
        "### --- Creating the Conv1D model\n",
        "model_Conv1D = Sequential([\n",
        "    Conv1D(filters=20, kernel_size=4, strides=4, padding=\"valid\",input_shape=[None, 2]),\n",
        "    GRU(20, return_sequences=True),\n",
        "    GRU(40),\n",
        "    Dense(4, activation='softmax')\n",
        "])\n",
        "model_Conv1D.summary()"
      ]
    },
    {
      "cell_type": "code",
      "execution_count": null,
      "metadata": {
        "colab": {
          "background_save": true,
          "base_uri": "https://localhost:8080/"
        },
        "id": "Z9IkSgEOvXRM",
        "outputId": "36608fdc-e02e-4f73-ca92-7f0567bbb1c2"
      },
      "outputs": [
        {
          "name": "stdout",
          "output_type": "stream",
          "text": [
            "Epoch 1/30\n",
            "88/88 [==============================] - 92s 1s/step - loss: 1.2810 - accuracy: 0.4032 - val_loss: 1.1438 - val_accuracy: 0.4833\n",
            "Epoch 2/30\n",
            "88/88 [==============================] - 88s 998ms/step - loss: 1.0609 - accuracy: 0.5264 - val_loss: 0.9847 - val_accuracy: 0.5400\n",
            "Epoch 3/30\n",
            "88/88 [==============================] - 88s 998ms/step - loss: 0.9334 - accuracy: 0.5943 - val_loss: 0.9184 - val_accuracy: 0.5850\n",
            "Epoch 4/30\n",
            "88/88 [==============================] - 88s 999ms/step - loss: 0.8738 - accuracy: 0.6189 - val_loss: 0.8408 - val_accuracy: 0.6350\n",
            "Epoch 5/30\n",
            "88/88 [==============================] - 88s 1s/step - loss: 0.7881 - accuracy: 0.6661 - val_loss: 0.7944 - val_accuracy: 0.6583\n",
            "Epoch 6/30\n",
            "88/88 [==============================] - 88s 1000ms/step - loss: 0.7167 - accuracy: 0.7025 - val_loss: 0.7465 - val_accuracy: 0.6850\n",
            "Epoch 7/30\n",
            "88/88 [==============================] - 88s 1s/step - loss: 0.6829 - accuracy: 0.7289 - val_loss: 0.6857 - val_accuracy: 0.7100\n",
            "Epoch 8/30\n",
            "88/88 [==============================] - 88s 998ms/step - loss: 0.6082 - accuracy: 0.7564 - val_loss: 0.6561 - val_accuracy: 0.7483\n",
            "Epoch 9/30\n",
            "88/88 [==============================] - 88s 999ms/step - loss: 0.5885 - accuracy: 0.7650 - val_loss: 0.6020 - val_accuracy: 0.7483\n",
            "Epoch 10/30\n",
            "88/88 [==============================] - 88s 1000ms/step - loss: 0.5347 - accuracy: 0.7889 - val_loss: 0.5655 - val_accuracy: 0.7617\n",
            "Epoch 11/30\n",
            "88/88 [==============================] - 88s 998ms/step - loss: 0.5003 - accuracy: 0.8068 - val_loss: 0.5920 - val_accuracy: 0.7833\n",
            "Epoch 12/30\n",
            "88/88 [==============================] - 88s 998ms/step - loss: 0.4795 - accuracy: 0.8111 - val_loss: 0.5626 - val_accuracy: 0.7833\n",
            "Epoch 13/30\n",
            "88/88 [==============================] - 88s 997ms/step - loss: 0.4440 - accuracy: 0.8250 - val_loss: 0.5717 - val_accuracy: 0.7783\n",
            "Epoch 14/30\n",
            "88/88 [==============================] - 88s 998ms/step - loss: 0.4280 - accuracy: 0.8289 - val_loss: 0.4808 - val_accuracy: 0.8083\n",
            "Epoch 15/30\n",
            "88/88 [==============================] - 88s 996ms/step - loss: 0.4006 - accuracy: 0.8379 - val_loss: 0.4705 - val_accuracy: 0.8233\n",
            "Epoch 16/30\n",
            "88/88 [==============================] - 88s 999ms/step - loss: 0.3973 - accuracy: 0.8436 - val_loss: 0.4469 - val_accuracy: 0.8283\n",
            "Epoch 17/30\n",
            "88/88 [==============================] - 88s 998ms/step - loss: 0.3752 - accuracy: 0.8504 - val_loss: 0.4435 - val_accuracy: 0.8133\n",
            "Epoch 18/30\n",
            "88/88 [==============================] - 88s 996ms/step - loss: 0.3593 - accuracy: 0.8579 - val_loss: 0.4347 - val_accuracy: 0.8300\n",
            "Epoch 19/30\n",
            "88/88 [==============================] - 88s 995ms/step - loss: 0.3354 - accuracy: 0.8693 - val_loss: 0.4266 - val_accuracy: 0.8417\n",
            "Epoch 20/30\n",
            "88/88 [==============================] - 88s 998ms/step - loss: 0.3180 - accuracy: 0.8746 - val_loss: 0.4503 - val_accuracy: 0.8283\n",
            "Epoch 21/30\n",
            "88/88 [==============================] - 89s 1s/step - loss: 0.3097 - accuracy: 0.8693 - val_loss: 0.3979 - val_accuracy: 0.8533\n",
            "Epoch 22/30\n",
            "88/88 [==============================] - 89s 1s/step - loss: 0.3060 - accuracy: 0.8718 - val_loss: 0.4250 - val_accuracy: 0.8250\n",
            "Epoch 23/30\n",
            "88/88 [==============================] - 89s 1s/step - loss: 0.2992 - accuracy: 0.8793 - val_loss: 0.4390 - val_accuracy: 0.8433\n",
            "Epoch 24/30\n",
            "88/88 [==============================] - 89s 1s/step - loss: 0.2955 - accuracy: 0.8729 - val_loss: 0.4002 - val_accuracy: 0.8483\n",
            "Epoch 25/30\n",
            "88/88 [==============================] - 89s 1s/step - loss: 0.2739 - accuracy: 0.8854 - val_loss: 0.3892 - val_accuracy: 0.8467\n",
            "Epoch 26/30\n",
            "88/88 [==============================] - 89s 1s/step - loss: 0.2721 - accuracy: 0.8900 - val_loss: 0.4082 - val_accuracy: 0.8400\n",
            "Epoch 27/30\n",
            "88/88 [==============================] - 89s 1s/step - loss: 0.2728 - accuracy: 0.8814 - val_loss: 0.3994 - val_accuracy: 0.8517\n",
            "Epoch 28/30\n",
            "88/88 [==============================] - 89s 1s/step - loss: 0.2727 - accuracy: 0.8929 - val_loss: 0.4007 - val_accuracy: 0.8417\n",
            "Epoch 29/30\n",
            "88/88 [==============================] - 89s 1s/step - loss: 0.2963 - accuracy: 0.8757 - val_loss: 0.3889 - val_accuracy: 0.8533\n",
            "Epoch 30/30\n",
            "88/88 [==============================] - 88s 1s/step - loss: 0.2662 - accuracy: 0.8875 - val_loss: 0.3898 - val_accuracy: 0.8567\n"
          ]
        },
        {
          "data": {
            "image/png": "[encoded data removed]",
            "text/plain": [
              "<Figure size 432x288 with 1 Axes>"
            ]
          },
          "metadata": {},
          "output_type": "display_data"
        },
        {
          "data": {
            "text/plain": [
              "(<keras.engine.sequential.Sequential at 0x7f9150ad67d0>,\n",
              " <keras.callbacks.History at 0x7f9150a862d0>)"
            ]
          },
          "execution_count": null,
          "metadata": {},
          "output_type": "execute_result"
        }
      ],
      "source": [
        "### --- training and plotting the Conv1D model \n",
        "train_plot(model_Conv1D)"
      ]
    },
    {
      "cell_type": "code",
      "execution_count": null,
      "metadata": {
        "colab": {
          "background_save": true
        },
        "id": "81vfORF9vXRM",
        "outputId": "f3c2faff-275f-460d-cc0b-81472fff11c5"
      },
      "outputs": [
        {
          "name": "stdout",
          "output_type": "stream",
          "text": [
            "19/19 [==============================] - 3s 135ms/step - loss: 0.3898 - accuracy: 0.8567\n",
            "Validation score: 0.3898051083087921\n",
            "Validation accuracy: 0.8566666841506958\n"
          ]
        }
      ],
      "source": [
        "### --- Evaluating the Conv1D model.\n",
        "score, acc = model_Conv1D.evaluate(X_valid, y_valid)\n",
        "\n",
        "print('Validation loss:', score)\n",
        "print('Validation accuracy:', acc)"
      ]
    },
    {
      "cell_type": "markdown",
      "metadata": {
        "id": "AwzXw1Abua5p"
      },
      "source": [
        "## Deep RNN: sequence-to-vector\n"
      ]
    },
    {
      "cell_type": "code",
      "execution_count": null,
      "metadata": {
        "colab": {
          "base_uri": "https://localhost:8080/"
        },
        "id": "PKw_wIoTulDi",
        "outputId": "ac3d02cf-59fb-44b0-fd94-5cae8f235fa9"
      },
      "outputs": [
        {
          "name": "stdout",
          "output_type": "stream",
          "text": [
            "Model: \"sequential\"\n",
            "_________________________________________________________________\n",
            " Layer (type)                Output Shape              Param #   \n",
            "=================================================================\n",
            " simple_rnn (SimpleRNN)      (None, None, 20)          460       \n",
            "                                                                 \n",
            " simple_rnn_1 (SimpleRNN)    (None, 20)                820       \n",
            "                                                                 \n",
            " dense_1 (Dense)             (None, 10)                210       \n",
            "                                                                 \n",
            "=================================================================\n",
            "Total params: 1,490\n",
            "Trainable params: 1,490\n",
            "Non-trainable params: 0\n",
            "_________________________________________________________________\n"
          ]
        }
      ],
      "source": [
        "### --- Creating a Deep RNN model with two layers.\n",
        "model_Deep_RNN = Sequential([\n",
        "    SimpleRNN(20, return_sequences=True, input_shape=[None, 2]),\n",
        "    SimpleRNN(20),\n",
        "    Dense(10, activation='softmax')\n",
        "])\n",
        "model_Deep_RNN.summary()"
      ]
    },
    {
      "cell_type": "code",
      "execution_count": null,
      "metadata": {
        "colab": {
          "background_save": true,
          "base_uri": "https://localhost:8080/"
        },
        "id": "EmeDBhJ9uqIW",
        "outputId": "eacd593d-c3a4-40aa-9955-0761eefcf7ae"
      },
      "outputs": [
        {
          "name": "stdout",
          "output_type": "stream",
          "text": [
            "Epoch 1/30\n",
            "88/88 [==============================] - 389s 4s/step - loss: 1.7842 - accuracy: 0.2300 - val_loss: 1.4882 - val_accuracy: 0.2733\n",
            "Epoch 2/30\n",
            "88/88 [==============================] - 381s 4s/step - loss: 1.4334 - accuracy: 0.3054 - val_loss: 1.4107 - val_accuracy: 0.3233\n",
            "Epoch 3/30\n",
            "88/88 [==============================] - 381s 4s/step - loss: 1.3707 - accuracy: 0.3318 - val_loss: 1.3682 - val_accuracy: 0.3517\n",
            "Epoch 4/30\n",
            "88/88 [==============================] - 380s 4s/step - loss: 1.3344 - accuracy: 0.3707 - val_loss: 1.3446 - val_accuracy: 0.3817\n",
            "Epoch 5/30\n",
            "88/88 [==============================] - 380s 4s/step - loss: 1.3143 - accuracy: 0.3932 - val_loss: 1.3287 - val_accuracy: 0.4000\n",
            "Epoch 6/30\n",
            "88/88 [==============================] - 380s 4s/step - loss: 1.2978 - accuracy: 0.4057 - val_loss: 1.3147 - val_accuracy: 0.3933\n",
            "Epoch 7/30\n",
            "88/88 [==============================] - 380s 4s/step - loss: 1.2847 - accuracy: 0.4182 - val_loss: 1.2883 - val_accuracy: 0.4167\n",
            "Epoch 8/30\n",
            "88/88 [==============================] - 379s 4s/step - loss: 1.2632 - accuracy: 0.4254 - val_loss: 1.2634 - val_accuracy: 0.4250\n",
            "Epoch 9/30\n",
            "88/88 [==============================] - 380s 4s/step - loss: 1.2375 - accuracy: 0.4525 - val_loss: 1.2323 - val_accuracy: 0.4383\n",
            "Epoch 10/30\n",
            "88/88 [==============================] - 377s 4s/step - loss: 1.2098 - accuracy: 0.4596 - val_loss: 1.2147 - val_accuracy: 0.4500\n",
            "Epoch 11/30\n",
            "88/88 [==============================] - 384s 4s/step - loss: 1.1815 - accuracy: 0.4829 - val_loss: 1.1779 - val_accuracy: 0.4667\n",
            "Epoch 12/30\n",
            "88/88 [==============================] - 380s 4s/step - loss: 1.1632 - accuracy: 0.4861 - val_loss: 1.1505 - val_accuracy: 0.5000\n",
            "Epoch 13/30\n",
            "88/88 [==============================] - 377s 4s/step - loss: 1.1394 - accuracy: 0.5086 - val_loss: 1.1235 - val_accuracy: 0.4933\n",
            "Epoch 14/30\n",
            "88/88 [==============================] - 377s 4s/step - loss: 1.1139 - accuracy: 0.5182 - val_loss: 1.1050 - val_accuracy: 0.4867\n",
            "Epoch 15/30\n",
            "88/88 [==============================] - 378s 4s/step - loss: 1.0899 - accuracy: 0.5232 - val_loss: 1.0710 - val_accuracy: 0.5083\n",
            "Epoch 16/30\n",
            "88/88 [==============================] - 378s 4s/step - loss: 1.0576 - accuracy: 0.5382 - val_loss: 1.0922 - val_accuracy: 0.5183\n",
            "Epoch 17/30\n",
            "88/88 [==============================] - 378s 4s/step - loss: 1.0463 - accuracy: 0.5443 - val_loss: 1.0396 - val_accuracy: 0.5400\n",
            "Epoch 18/30\n",
            "88/88 [==============================] - 377s 4s/step - loss: 1.0384 - accuracy: 0.5446 - val_loss: 1.0491 - val_accuracy: 0.5500\n",
            "Epoch 19/30\n",
            "88/88 [==============================] - 378s 4s/step - loss: 1.0054 - accuracy: 0.5618 - val_loss: 0.9904 - val_accuracy: 0.5500\n",
            "Epoch 20/30\n",
            "88/88 [==============================] - 379s 4s/step - loss: 0.9958 - accuracy: 0.5639 - val_loss: 0.9836 - val_accuracy: 0.5667\n",
            "Epoch 21/30\n",
            "88/88 [==============================] - 379s 4s/step - loss: 0.9619 - accuracy: 0.5889 - val_loss: 0.9598 - val_accuracy: 0.5733\n",
            "Epoch 22/30\n",
            "88/88 [==============================] - 379s 4s/step - loss: 0.9624 - accuracy: 0.5854 - val_loss: 0.9662 - val_accuracy: 0.5617\n",
            "Epoch 23/30\n",
            "88/88 [==============================] - 379s 4s/step - loss: 0.9390 - accuracy: 0.6032 - val_loss: 0.9088 - val_accuracy: 0.6083\n",
            "Epoch 24/30\n",
            "88/88 [==============================] - 379s 4s/step - loss: 0.8994 - accuracy: 0.6257 - val_loss: 0.8863 - val_accuracy: 0.6117\n",
            "Epoch 25/30\n",
            "88/88 [==============================] - 379s 4s/step - loss: 0.8743 - accuracy: 0.6375 - val_loss: 0.8718 - val_accuracy: 0.6333\n",
            "Epoch 26/30\n",
            "88/88 [==============================] - 378s 4s/step - loss: 0.8784 - accuracy: 0.6493 - val_loss: 0.8612 - val_accuracy: 0.6467\n",
            "Epoch 27/30\n",
            "88/88 [==============================] - 378s 4s/step - loss: 0.8595 - accuracy: 0.6425 - val_loss: 0.8750 - val_accuracy: 0.6400\n",
            "Epoch 28/30\n",
            "88/88 [==============================] - 379s 4s/step - loss: 0.8452 - accuracy: 0.6593 - val_loss: 0.8174 - val_accuracy: 0.6467\n",
            "Epoch 29/30\n",
            "88/88 [==============================] - 379s 4s/step - loss: 0.8366 - accuracy: 0.6579 - val_loss: 0.8201 - val_accuracy: 0.6467\n",
            "Epoch 30/30\n",
            "88/88 [==============================] - 379s 4s/step - loss: 0.8185 - accuracy: 0.6786 - val_loss: 0.8245 - val_accuracy: 0.6683\n"
          ]
        },
        {
          "data": {
            "image/png": "[encoded data removed]",
            "text/plain": [
              "<Figure size 432x288 with 1 Axes>"
            ]
          },
          "metadata": {},
          "output_type": "display_data"
        },
        {
          "data": {
            "text/plain": [
              "(<keras.engine.sequential.Sequential at 0x7fa9c6161810>,\n",
              " <keras.callbacks.History at 0x7fa9c58e3d10>)"
            ]
          },
          "execution_count": null,
          "metadata": {},
          "output_type": "execute_result"
        }
      ],
      "source": [
        "### --- Training and plotting the Deep RNN model.\n",
        "train_plot(model_Deep_RNN)"
      ]
    },
    {
      "cell_type": "code",
      "execution_count": null,
      "metadata": {
        "colab": {
          "background_save": true
        },
        "id": "s97uiMsBcoZ_",
        "outputId": "fab595a6-1ace-4c10-d859-9b4ba0325b8c"
      },
      "outputs": [
        {
          "name": "stdout",
          "output_type": "stream",
          "text": [
            "19/19 [==============================] - 7s 360ms/step - loss: 0.8245 - accuracy: 0.6683\n",
            "Validation score: 0.8244910836219788\n",
            "Validation accuracy: 0.6683333516120911\n"
          ]
        }
      ],
      "source": [
        "### --- Evaluating the Deep RNN model.\n",
        "score, acc = model_Deep_RNN.evaluate(X_valid, y_valid)\n",
        "\n",
        "print('Validation score:', score)\n",
        "print('Validation accuracy:', acc)"
      ]
    },
    {
      "cell_type": "markdown",
      "metadata": {
        "id": "BnHuOrlQCayE"
      },
      "source": [
        "# Question 2\n",
        "*In your own words, explain why the approach outlined here can help analyze time-series\n",
        "data and why it might outperform RNNs.*"
      ]
    },
    {
      "cell_type": "markdown",
      "metadata": {
        "id": "nVesqhirIdx7"
      },
      "source": [
        "\n",
        "> The approach outlined in the article is the transformation of time series into images in order to used as a CNN model and predict the turbine's status, healthy, if the generator torque is faulty, if the pitch angle is faulty, and if both are faulty.\n",
        "\n",
        "> CNNs use convolution operations that can handle spatial information available in images. In addition to this CNN are highly noise resistant models, and for that reason are able to extract very informative, deep features, that are independent from time.\n",
        "\n",
        "> CNN model might outperform RNN model because:\n",
        "\n",
        "* CNNs are computationally \"cheaper\" than RNNs. CNN models learn by batch while RNNs train sequentially. As a result, RNN can’t use parallelization because it must wait for the previous computations.\n",
        "* CNNs don’t have the assumption that history is complete.CNNs learn patterns within the time window, and not like RNN. If there are any  missing data, CNNs should be more useful.\n",
        "* RNN models only learn from data before the timestep it needs to predict.On the other hand, CNNs can see data from a broader perspective. CNNs are \"feed-forward neural networks\" that use filters and pooling layers, while RNNs feed results back into the network.\n",
        "\n",
        "\n",
        "\n",
        "\n",
        "\n",
        "\n",
        "\n",
        "\n"
      ]
    },
    {
      "cell_type": "markdown",
      "metadata": {
        "id": "P9SaKLm3Cedt"
      },
      "source": [
        "# Question 3\n",
        "*Convert the data for use with a CNN. In particular, following the approach outlined in\n",
        "Scenario 2 (section 5.3 of the paper) and summarized in Figure 18, convert the two time\n",
        "series corresponding to one wind turbine run into a single (100,100,1) array (i.e., a grayscale image).*\n"
      ]
    },
    {
      "cell_type": "code",
      "execution_count": 4,
      "metadata": {
        "colab": {
          "base_uri": "https://localhost:8080/"
        },
        "id": "kHi5my5HvBIL",
        "outputId": "71c8328c-82de-4c69-9415-16b70c82546c"
      },
      "outputs": [
        {
          "data": {
            "text/plain": [
              "array([[30, 29, 29, ...,  2,  2,  1],\n",
              "       [31, 31, 30, ...,  1,  1,  1],\n",
              "       [28, 28, 28, ...,  0,  0,  0],\n",
              "       ...,\n",
              "       [28, 28, 28, ...,  0,  0,  0],\n",
              "       [28, 28, 29, ...,  1,  0,  0],\n",
              "       [31, 31, 30, ...,  0,  0,  0]], dtype=uint8)"
            ]
          },
          "execution_count": 4,
          "metadata": {},
          "output_type": "execute_result"
        }
      ],
      "source": [
        "### --- combining the two time series, horizontally  for the CNN model as shown in Figure 18.\n",
        "combined_cnn = np.hstack((time_series_1, time_series_2))\n",
        "combined_cnn"
      ]
    },
    {
      "cell_type": "code",
      "execution_count": 5,
      "metadata": {
        "colab": {
          "base_uri": "https://localhost:8080/"
        },
        "id": "3tN2PJJg4sqq",
        "outputId": "4372d3f6-39c2-4c9a-ea7c-753ce7404d91"
      },
      "outputs": [
        {
          "data": {
            "text/plain": [
              "(4000, 10000)"
            ]
          },
          "execution_count": 5,
          "metadata": {},
          "output_type": "execute_result"
        }
      ],
      "source": [
        "### --- printing the shape of the new combined array\n",
        "combined_cnn.shape"
      ]
    },
    {
      "cell_type": "code",
      "execution_count": null,
      "metadata": {
        "id": "pi4Jzl-kCXAO"
      },
      "outputs": [],
      "source": [
        "y3 = y "
      ]
    },
    {
      "cell_type": "code",
      "execution_count": null,
      "metadata": {
        "colab": {
          "base_uri": "https://localhost:8080/"
        },
        "id": "h0fClG2BCXCk",
        "outputId": "3950b1a9-0f04-4d67-b374-bd9d7685b6d5"
      },
      "outputs": [
        {
          "name": "stdout",
          "output_type": "stream",
          "text": [
            "x_train shape: (2800, 10000)\n",
            "x_test shape: (600, 10000)\n",
            "y_train shape: (2800,)\n",
            "y_test shape: (600,)\n"
          ]
        }
      ],
      "source": [
        "### --- splitting into train-validation and test set \n",
        "np.random.seed(132)\n",
        "seq_steps = 10000\n",
        "\n",
        "X_train_q3, y_train_q3 = combined_cnn[:2800, :seq_steps], y3[:2800,]\n",
        "X_valid_q3, y_valid_q3 = combined_cnn[2800:3400, :seq_steps], y3[2800:3400,]\n",
        "X_test_q3, y_test_q3 = combined_cnn[3400:, :seq_steps], y3[3400:,]\n",
        "\n",
        "print('x_train shape:', X_train_q3.shape)\n",
        "print('x_test shape:', X_test_q3.shape)\n",
        "print('y_train shape:', y_train_q3.shape)\n",
        "print('y_test shape:', y_test_q3.shape)"
      ]
    },
    {
      "cell_type": "code",
      "execution_count": null,
      "metadata": {
        "id": "8TG8dgFKCsjl"
      },
      "outputs": [],
      "source": [
        "### --- Transforming the data for use as an image with dimensions (100,100,1)\n",
        "\n",
        "num_classes = len(np.unique(y3)) ## -- number of classes in the data\n",
        "img_rows, img_cols, img_channels = 100, 100, 1 ## -- input image dimensions (100,100,1)\n",
        "\n",
        "### --- Loading and converting data from uint8 to float32\n",
        "X_train_q3 = X_train_q3.astype('float32')\n",
        "X_test_q3 = X_test_q3.astype('float32')\n",
        "X_valid_q3 = X_valid_q3.astype('float32')\n",
        "\n",
        "\n",
        "### --- Converting class vectors to one-hot encoding\n",
        "y_train_q3 = tf.keras.utils.to_categorical(y_train_q3, num_classes)\n",
        "y_test_q3 = tf.keras.utils.to_categorical(y_test_q3, num_classes)\n",
        "y_valid_q3 = tf.keras.utils.to_categorical(y_valid_q3, num_classes)\n",
        "\n",
        "\n",
        "### --- Depending on the implementation, the underlying libraries might want the image \n",
        "# dimensions in different orders, so we create an if.\n",
        "if K.image_data_format() == 'channels_first':\n",
        "    X_train_q3 = X_train_q3.reshape(X_train_q3.shape[0], img_channels, img_rows, img_cols)\n",
        "    X_test_q3 = X_test_q3.reshape(X_test_q3.shape[0], img_channels, img_rows, img_cols)\n",
        "    X_valid_q3 = X_valid_q3.reshape(X_valid_q3.shape[0], img_channels, img_rows, img_cols)\n",
        "    input_shape = (img_channels, img_rows, img_cols)\n",
        "else:\n",
        "    X_train_q3 = X_train_q3.reshape(X_train_q3.shape[0], img_rows, img_cols, img_channels)\n",
        "    X_test_q3 = X_test_q3.reshape(X_test_q3.shape[0], img_rows, img_cols, img_channels)\n",
        "    X_valid_q3 = X_valid_q3.reshape(X_valid_q3.shape[0], img_rows, img_cols, img_channels)\n",
        "    input_shape = (img_rows, img_cols, img_channels)\n",
        "\n"
      ]
    },
    {
      "cell_type": "code",
      "execution_count": null,
      "metadata": {
        "colab": {
          "base_uri": "https://localhost:8080/"
        },
        "id": "Hk3jwei1CzB3",
        "outputId": "80b3bbb7-5dbd-42da-86b4-897c9137562a"
      },
      "outputs": [
        {
          "name": "stdout",
          "output_type": "stream",
          "text": [
            "X_train shape: (2800, 100, 100, 1)\n",
            "y_train shape: (2800, 4)\n",
            "X_valid shape: (600, 100, 100, 1)\n",
            "y_valid shape: (600, 4)\n"
          ]
        }
      ],
      "source": [
        "### --- Printing the shapes \n",
        "\n",
        "print('X_train shape:', X_train_q3.shape)\n",
        "print('y_train shape:', y_train_q3.shape)\n",
        "print('X_valid shape:', X_valid_q3.shape)\n",
        "print('y_valid shape:', y_valid_q3.shape)\n",
        "\n"
      ]
    },
    {
      "cell_type": "markdown",
      "metadata": {
        "id": "e_O_uuCPC4sn"
      },
      "source": [
        "# Question 4\n",
        "*In TensorFlow, replicate the CNN with three convolutional layers displayed in Figure 12\n",
        "and train it on your data. Make sure to record your final validation set accuracy.*"
      ]
    },
    {
      "cell_type": "code",
      "execution_count": null,
      "metadata": {
        "colab": {
          "base_uri": "https://localhost:8080/"
        },
        "id": "Gjbp5NUzC7UA",
        "outputId": "d263e23a-1933-4026-ae96-3d42277e0939"
      },
      "outputs": [
        {
          "name": "stdout",
          "output_type": "stream",
          "text": [
            "Model: \"sequential_2\"\n",
            "_________________________________________________________________\n",
            " Layer (type)                Output Shape              Param #   \n",
            "=================================================================\n",
            " conv2d_3 (Conv2D)           (None, 98, 98, 32)        320       \n",
            "                                                                 \n",
            " conv2d_4 (Conv2D)           (None, 96, 96, 32)        9248      \n",
            "                                                                 \n",
            " dropout_1 (Dropout)         (None, 96, 96, 32)        0         \n",
            "                                                                 \n",
            " conv2d_5 (Conv2D)           (None, 94, 94, 16)        4624      \n",
            "                                                                 \n",
            " max_pooling2d_1 (MaxPooling  (None, 31, 31, 16)       0         \n",
            " 2D)                                                             \n",
            "                                                                 \n",
            " flatten_1 (Flatten)         (None, 15376)             0         \n",
            "                                                                 \n",
            " dense_2 (Dense)             (None, 4)                 61508     \n",
            "                                                                 \n",
            "=================================================================\n",
            "Total params: 75,700\n",
            "Trainable params: 75,700\n",
            "Non-trainable params: 0\n",
            "_________________________________________________________________\n"
          ]
        }
      ],
      "source": [
        "### --- Creating the CNN model of the figure 12, with:\n",
        "# 3 Conv2D layers, one dropout layer, one max pooling layer, a flatten layer and a Dense layer.\n",
        "\n",
        "model_CNN = Sequential([\n",
        "    Conv2D(32, kernel_size=(3, 3),input_shape=input_shape),\n",
        "    Conv2D(32, kernel_size=(3, 3)), \n",
        "    Dropout(0.2),\n",
        "    Conv2D(16, kernel_size=(3, 3),activation='relu'),  \n",
        "    MaxPooling2D(pool_size=(3, 3)),\n",
        "    Flatten(),\n",
        "    Dense(num_classes, activation='softmax')])\n",
        "\n",
        "model_CNN.compile(loss='categorical_crossentropy',\n",
        "              optimizer='adam',\n",
        "              metrics=['accuracy'])\n",
        "model_CNN.summary()"
      ]
    },
    {
      "cell_type": "code",
      "execution_count": null,
      "metadata": {
        "colab": {
          "base_uri": "https://localhost:8080/"
        },
        "id": "_d5OZjv1EDAN",
        "outputId": "433d0229-cf52-4fc6-9d0d-42e47e641fe2"
      },
      "outputs": [
        {
          "name": "stdout",
          "output_type": "stream",
          "text": [
            "Epoch 1/15\n",
            "88/88 [==============================] - 117s 1s/step - loss: 22.2287 - accuracy: 0.2882 - val_loss: 1.3861 - val_accuracy: 0.2617\n",
            "Epoch 2/15\n",
            "88/88 [==============================] - 100s 1s/step - loss: 1.3593 - accuracy: 0.3321 - val_loss: 1.3650 - val_accuracy: 0.3533\n",
            "Epoch 3/15\n",
            "88/88 [==============================] - 103s 1s/step - loss: 1.0471 - accuracy: 0.5518 - val_loss: 0.6520 - val_accuracy: 0.7683\n",
            "Epoch 4/15\n",
            "88/88 [==============================] - 115s 1s/step - loss: 0.4342 - accuracy: 0.8446 - val_loss: 0.2844 - val_accuracy: 0.9067\n",
            "Epoch 5/15\n",
            "88/88 [==============================] - 98s 1s/step - loss: 0.3255 - accuracy: 0.8679 - val_loss: 0.2749 - val_accuracy: 0.8950\n",
            "Epoch 6/15\n",
            "88/88 [==============================] - 100s 1s/step - loss: 0.3012 - accuracy: 0.8750 - val_loss: 0.2521 - val_accuracy: 0.9033\n",
            "Epoch 7/15\n",
            "88/88 [==============================] - 99s 1s/step - loss: 0.2678 - accuracy: 0.8811 - val_loss: 0.2462 - val_accuracy: 0.9033\n",
            "Epoch 8/15\n",
            "88/88 [==============================] - 98s 1s/step - loss: 0.2679 - accuracy: 0.8818 - val_loss: 0.2640 - val_accuracy: 0.9067\n",
            "Epoch 9/15\n",
            "88/88 [==============================] - 99s 1s/step - loss: 0.2618 - accuracy: 0.8821 - val_loss: 0.2450 - val_accuracy: 0.9067\n",
            "Epoch 10/15\n",
            "88/88 [==============================] - 98s 1s/step - loss: 0.2564 - accuracy: 0.8904 - val_loss: 0.2405 - val_accuracy: 0.9050\n",
            "Epoch 11/15\n",
            "88/88 [==============================] - 98s 1s/step - loss: 0.2495 - accuracy: 0.8868 - val_loss: 0.2477 - val_accuracy: 0.9000\n",
            "Epoch 12/15\n",
            "88/88 [==============================] - 98s 1s/step - loss: 0.2516 - accuracy: 0.8871 - val_loss: 0.2459 - val_accuracy: 0.9033\n",
            "Epoch 13/15\n",
            "88/88 [==============================] - 98s 1s/step - loss: 0.2516 - accuracy: 0.8850 - val_loss: 0.2463 - val_accuracy: 0.9067\n",
            "Epoch 14/15\n",
            "88/88 [==============================] - 98s 1s/step - loss: 0.2486 - accuracy: 0.8904 - val_loss: 0.2616 - val_accuracy: 0.8917\n",
            "Epoch 15/15\n",
            "88/88 [==============================] - 100s 1s/step - loss: 0.2441 - accuracy: 0.8900 - val_loss: 0.2472 - val_accuracy: 0.9000\n"
          ]
        }
      ],
      "source": [
        "### --- fitting the CNN model \n",
        "CNN = model_CNN.fit(X_train_q3, y_train_q3,  epochs = 15, validation_data=(X_valid_q3, y_valid_q3)) "
      ]
    },
    {
      "cell_type": "code",
      "execution_count": null,
      "metadata": {
        "colab": {
          "base_uri": "https://localhost:8080/",
          "height": 265
        },
        "id": "EC3QlfGbXdpl",
        "outputId": "471b7ce2-72f1-4218-b3b6-6d0d34253164"
      },
      "outputs": [
        {
          "data": {
            "image/png": "[encoded data removed]",
            "text/plain": [
              "<Figure size 432x288 with 1 Axes>"
            ]
          },
          "metadata": {},
          "output_type": "display_data"
        }
      ],
      "source": [
        "### --- plotting the training accuracy and validation accuracy.\n",
        "plt.plot(CNN.history['loss'], label = 'training accuracy')\n",
        "plt.plot(CNN.history['val_loss'], label = 'validation accuracy')\n",
        "plt.legend()\n",
        "plt.show()"
      ]
    },
    {
      "cell_type": "code",
      "execution_count": null,
      "metadata": {
        "colab": {
          "base_uri": "https://localhost:8080/"
        },
        "id": "_SnXzcAuq6oR",
        "outputId": "80a474dd-f0ae-4f53-ccbc-544ac0359565"
      },
      "outputs": [
        {
          "name": "stdout",
          "output_type": "stream",
          "text": [
            "19/19 [==============================] - 4s 216ms/step - loss: 0.2472 - accuracy: 0.9000\n",
            "Validation score: 0.24722658097743988\n",
            "Validation accuracy: 0.8999999761581421\n"
          ]
        }
      ],
      "source": [
        "### --- Evaluating the CNN model\n",
        "\n",
        "score, acc = model_CNN.evaluate(X_valid_q3, y_valid_q3)\n",
        "\n",
        "print('Validation score:', score)\n",
        "print('Validation accuracy:', acc)"
      ]
    },
    {
      "cell_type": "markdown",
      "metadata": {
        "id": "PJC-U62GEkMG"
      },
      "source": [
        "# Question 5\n",
        "*Can you do better by adjusting the CNN? Be creative in your design choices (you might also consider pre-trained CNN architectures) and record your final validation set accuracy.*"
      ]
    },
    {
      "cell_type": "markdown",
      "metadata": {
        "id": "TIO8KeYzTVSL"
      },
      "source": [
        "Trying to improve the CNN model by adding:\n",
        "\n",
        "\n",
        "\n",
        "* one more Max pooling layer after the first Conv2D layer, in order to calculate the maximum value for each patch. The addition of a pooling layer after the convolutional layer is a common pattern used for ordering layers within a convolutional neural network that may be repeated one or more times in a given model.\n",
        "\n",
        "*  a reduction of the units in the second Conv2D layer from 32 to 16.\n",
        "\n",
        "* a Dropout layer equal to 0.4 in order to prevent overfitting.\n",
        "\n",
        "* an extra Conv2D layer with 32 units\n",
        "\n",
        "* and an extra Dropout layer equal to 0.4.\n",
        "\n",
        "\n",
        "\n",
        "\n",
        "\n",
        "\n",
        "\n",
        "\n"
      ]
    },
    {
      "cell_type": "code",
      "execution_count": null,
      "metadata": {
        "colab": {
          "base_uri": "https://localhost:8080/"
        },
        "id": "AVgxH67l-XN3",
        "outputId": "1f6b3536-b7d6-4c9e-f84c-5a5535bbeb70"
      },
      "outputs": [
        {
          "name": "stdout",
          "output_type": "stream",
          "text": [
            "Model: \"sequential_3\"\n",
            "_________________________________________________________________\n",
            " Layer (type)                Output Shape              Param #   \n",
            "=================================================================\n",
            " conv2d_6 (Conv2D)           (None, 98, 98, 32)        320       \n",
            "                                                                 \n",
            " max_pooling2d_2 (MaxPooling  (None, 32, 32, 32)       0         \n",
            " 2D)                                                             \n",
            "                                                                 \n",
            " conv2d_7 (Conv2D)           (None, 15, 15, 16)        4624      \n",
            "                                                                 \n",
            " dropout_2 (Dropout)         (None, 15, 15, 16)        0         \n",
            "                                                                 \n",
            " conv2d_8 (Conv2D)           (None, 7, 7, 32)          4640      \n",
            "                                                                 \n",
            " dropout_3 (Dropout)         (None, 7, 7, 32)          0         \n",
            "                                                                 \n",
            " conv2d_9 (Conv2D)           (None, 5, 5, 16)          4624      \n",
            "                                                                 \n",
            " dropout_4 (Dropout)         (None, 5, 5, 16)          0         \n",
            "                                                                 \n",
            " max_pooling2d_3 (MaxPooling  (None, 1, 1, 16)         0         \n",
            " 2D)                                                             \n",
            "                                                                 \n",
            " flatten_2 (Flatten)         (None, 16)                0         \n",
            "                                                                 \n",
            " dense_3 (Dense)             (None, 4)                 68        \n",
            "                                                                 \n",
            "=================================================================\n",
            "Total params: 14,276\n",
            "Trainable params: 14,276\n",
            "Non-trainable params: 0\n",
            "_________________________________________________________________\n"
          ]
        }
      ],
      "source": [
        "### ---  Creating the new CNN model\n",
        "model_CNN_2 = Sequential([\n",
        "    Conv2D(32, kernel_size=(3, 3),strides=1,input_shape=input_shape),\n",
        "    MaxPooling2D(pool_size=(3, 3)),\n",
        "    Conv2D(16, kernel_size=(3, 3),strides=2,input_shape=input_shape), \n",
        "    Dropout(0.4),\n",
        "    Conv2D(32, kernel_size=(3, 3),strides=2),\n",
        "    Dropout(0.2),\n",
        "    Conv2D(16, kernel_size=(3, 3),strides=1,activation='relu'),  \n",
        "    Dropout(0.4),\n",
        "    MaxPooling2D(pool_size=(3, 3)),\n",
        "    Flatten(),\n",
        "    Dense(num_classes, activation='softmax')])\n",
        "\n",
        "model_CNN_2.compile(loss='categorical_crossentropy',\n",
        "              optimizer='adam',\n",
        "              metrics=['accuracy'])\n",
        "model_CNN_2.summary()"
      ]
    },
    {
      "cell_type": "code",
      "execution_count": null,
      "metadata": {
        "colab": {
          "base_uri": "https://localhost:8080/"
        },
        "id": "AwxEVXnAKJqo",
        "outputId": "7d970995-78f4-4a2a-8d2e-c4ba1d8d9f54"
      },
      "outputs": [
        {
          "name": "stdout",
          "output_type": "stream",
          "text": [
            "Epoch 1/20\n",
            "94/94 [==============================] - 15s 150ms/step - loss: 8.8125 - accuracy: 0.3704 - val_loss: 1.3409 - val_accuracy: 0.6067\n",
            "Epoch 2/20\n",
            "94/94 [==============================] - 14s 148ms/step - loss: 3.0319 - accuracy: 0.5129 - val_loss: 0.4174 - val_accuracy: 0.8917\n",
            "Epoch 3/20\n",
            "94/94 [==============================] - 14s 147ms/step - loss: 1.9756 - accuracy: 0.6093 - val_loss: 0.2805 - val_accuracy: 0.9033\n",
            "Epoch 4/20\n",
            "94/94 [==============================] - 14s 147ms/step - loss: 1.2836 - accuracy: 0.6707 - val_loss: 0.2634 - val_accuracy: 0.9083\n",
            "Epoch 5/20\n",
            "94/94 [==============================] - 14s 147ms/step - loss: 0.9643 - accuracy: 0.7332 - val_loss: 0.2461 - val_accuracy: 0.9067\n",
            "Epoch 6/20\n",
            "94/94 [==============================] - 14s 147ms/step - loss: 0.7923 - accuracy: 0.7621 - val_loss: 0.2504 - val_accuracy: 0.9033\n",
            "Epoch 7/20\n",
            "94/94 [==============================] - 14s 147ms/step - loss: 0.6901 - accuracy: 0.7796 - val_loss: 0.2404 - val_accuracy: 0.9000\n",
            "Epoch 8/20\n",
            "94/94 [==============================] - 14s 146ms/step - loss: 0.5952 - accuracy: 0.7989 - val_loss: 0.2632 - val_accuracy: 0.8467\n",
            "Epoch 9/20\n",
            "94/94 [==============================] - 14s 147ms/step - loss: 0.5437 - accuracy: 0.7996 - val_loss: 0.2456 - val_accuracy: 0.8983\n",
            "Epoch 10/20\n",
            "94/94 [==============================] - 14s 147ms/step - loss: 0.5087 - accuracy: 0.8118 - val_loss: 0.2471 - val_accuracy: 0.9067\n",
            "Epoch 11/20\n",
            "94/94 [==============================] - 14s 146ms/step - loss: 0.4372 - accuracy: 0.8282 - val_loss: 0.2523 - val_accuracy: 0.9067\n",
            "Epoch 12/20\n",
            "94/94 [==============================] - 14s 148ms/step - loss: 0.4310 - accuracy: 0.8411 - val_loss: 0.2562 - val_accuracy: 0.9033\n",
            "Epoch 13/20\n",
            "94/94 [==============================] - 14s 147ms/step - loss: 0.4167 - accuracy: 0.8418 - val_loss: 0.2485 - val_accuracy: 0.9033\n",
            "Epoch 14/20\n",
            "94/94 [==============================] - 14s 147ms/step - loss: 0.3832 - accuracy: 0.8468 - val_loss: 0.3021 - val_accuracy: 0.9033\n",
            "Epoch 15/20\n",
            "94/94 [==============================] - 14s 148ms/step - loss: 0.3643 - accuracy: 0.8579 - val_loss: 0.2614 - val_accuracy: 0.9050\n",
            "Epoch 16/20\n",
            "94/94 [==============================] - 14s 147ms/step - loss: 0.3467 - accuracy: 0.8614 - val_loss: 0.2409 - val_accuracy: 0.9033\n",
            "Epoch 17/20\n",
            "94/94 [==============================] - 14s 147ms/step - loss: 0.3548 - accuracy: 0.8532 - val_loss: 0.2555 - val_accuracy: 0.9017\n",
            "Epoch 18/20\n",
            "94/94 [==============================] - 14s 147ms/step - loss: 0.3269 - accuracy: 0.8629 - val_loss: 0.2521 - val_accuracy: 0.9067\n",
            "Epoch 19/20\n",
            "94/94 [==============================] - 14s 148ms/step - loss: 0.3244 - accuracy: 0.8725 - val_loss: 0.2437 - val_accuracy: 0.9017\n",
            "Epoch 20/20\n",
            "94/94 [==============================] - 14s 147ms/step - loss: 0.2971 - accuracy: 0.8732 - val_loss: 0.2361 - val_accuracy: 0.9067\n"
          ]
        }
      ],
      "source": [
        "### --- Training the model\n",
        "CNN_2 = model_CNN_2.fit(X_train_q3, y_train_q3, batch_size= 30, epochs = 20, validation_data=(X_valid_q3, y_valid_q3)) "
      ]
    },
    {
      "cell_type": "code",
      "execution_count": null,
      "metadata": {
        "colab": {
          "base_uri": "https://localhost:8080/",
          "height": 265
        },
        "id": "7diSdHrrUf_z",
        "outputId": "a97cd0c6-eca3-40db-e3eb-70be40dc3bc0"
      },
      "outputs": [
        {
          "data": {
            "image/png": "[encoded data removed]",
            "text/plain": [
              "<Figure size 432x288 with 1 Axes>"
            ]
          },
          "metadata": {},
          "output_type": "display_data"
        }
      ],
      "source": [
        "### --- Plotting the model CNN_2\n",
        "plt.plot(CNN_2.history['loss'], label = 'training accuracy')\n",
        "plt.plot(CNN_2.history['val_loss'], label = 'validation accuracy')\n",
        "plt.legend()\n",
        "plt.show()"
      ]
    },
    {
      "cell_type": "code",
      "execution_count": null,
      "metadata": {
        "colab": {
          "base_uri": "https://localhost:8080/"
        },
        "id": "UvgbZZww0crY",
        "outputId": "cc6ea693-b5ee-4bc7-9d0a-dc8d890255ae"
      },
      "outputs": [
        {
          "name": "stdout",
          "output_type": "stream",
          "text": [
            "19/19 [==============================] - 1s 48ms/step - loss: 0.2361 - accuracy: 0.9067\n",
            "Validation score: 0.23612205684185028\n",
            "Validation accuracy: 0.9066666960716248\n"
          ]
        }
      ],
      "source": [
        "### --- Evaluating the CNN_2 model\n",
        "\n",
        "score, acc = model_CNN_2.evaluate(X_valid_q3, y_valid_q3)\n",
        "\n",
        "print('Validation score:', score)\n",
        "print('Validation accuracy:', acc)"
      ]
    },
    {
      "cell_type": "markdown",
      "metadata": {
        "id": "ri9gLpPAkabm"
      },
      "source": [
        " **---The next step is to use functions for the model AlexNet, Xception and GoogleNet in order to achieve higher accuracy for the CNN model.**"
      ]
    },
    {
      "cell_type": "markdown",
      "metadata": {
        "id": "YUceMS71KhZA"
      },
      "source": [
        "## ---- AlexNet"
      ]
    },
    {
      "cell_type": "code",
      "execution_count": null,
      "metadata": {
        "colab": {
          "background_save": true
        },
        "id": "GmKL6O6XP2TY"
      },
      "outputs": [],
      "source": [
        "### --- Importing libraries\n",
        "\n",
        "from keras.layers import Input, Dense, Conv2D, Conv3D, DepthwiseConv2D, SeparableConv2D, Conv3DTranspose\n",
        "from keras.models import Model\n",
        "from keras.layers import Concatenate, Add, Dropout, ReLU, Lambda, Activation, LeakyReLU, PReLU\n",
        "from keras.layers import Flatten, MaxPool2D, AvgPool2D, GlobalAvgPool2D, UpSampling2D, BatchNormalization\n",
        "\n"
      ]
    },
    {
      "cell_type": "code",
      "execution_count": null,
      "metadata": {
        "colab": {
          "background_save": true
        },
        "id": "3rKWK8DSvEnA"
      },
      "outputs": [],
      "source": [
        "### --- Creating an AlexNet function in order to improve the model\n",
        "\n",
        "def alexnet(input_shape = (100,100,1), n_classes = 4):\n",
        "  input = Input(input_shape)\n",
        "  \n",
        "  x = Conv2D(96, 11, strides=4, padding='same', activation='relu')(input)\n",
        "  x = BatchNormalization()(x)\n",
        "  x = MaxPool2D(3, strides=2)(x)\n",
        "  \n",
        "  x = Conv2D(256, 5, padding='same', activation='relu')(x)\n",
        "  x = BatchNormalization()(x)\n",
        "  x = MaxPool2D(3, strides=2)(x)\n",
        "  \n",
        "  x = Conv2D(384, 3, strides=1, padding='same', activation='relu')(x)\n",
        "  \n",
        "  x = Conv2D(384, 3, strides=1, padding='same', activation='relu')(x)\n",
        "  \n",
        "  x = Conv2D(256, 3, strides=1, padding='same', activation='relu')(x)\n",
        "  x = BatchNormalization()(x)\n",
        "  x = MaxPool2D(3, strides=2)(x)\n",
        "  \n",
        "  x = Flatten()(x)\n",
        "  x = Dense(4096, activation='softmax')(x)\n",
        "  x = Dense(4096, activation='softmax')(x)\n",
        "  \n",
        "  output = Dense(n_classes, activation='softmax')(x)\n",
        "  \n",
        "  model_alexnet = Model(input, output)\n",
        "\n",
        "  return model_alexnet"
      ]
    },
    {
      "cell_type": "code",
      "execution_count": null,
      "metadata": {
        "colab": {
          "background_save": true
        },
        "id": "nKSCTtqjQtYg",
        "outputId": "435d54a6-139f-42c3-ef45-2ac0dc1dfe63"
      },
      "outputs": [
        {
          "name": "stdout",
          "output_type": "stream",
          "text": [
            "Model: \"model\"\n",
            "_________________________________________________________________\n",
            " Layer (type)                Output Shape              Param #   \n",
            "=================================================================\n",
            " input_1 (InputLayer)        [(None, 100, 100, 1)]     0         \n",
            "                                                                 \n",
            " conv2d (Conv2D)             (None, 25, 25, 96)        11712     \n",
            "                                                                 \n",
            " batch_normalization (BatchN  (None, 25, 25, 96)       384       \n",
            " ormalization)                                                   \n",
            "                                                                 \n",
            " max_pooling2d (MaxPooling2D  (None, 12, 12, 96)       0         \n",
            " )                                                               \n",
            "                                                                 \n",
            " conv2d_1 (Conv2D)           (None, 12, 12, 256)       614656    \n",
            "                                                                 \n",
            " batch_normalization_1 (Batc  (None, 12, 12, 256)      1024      \n",
            " hNormalization)                                                 \n",
            "                                                                 \n",
            " max_pooling2d_1 (MaxPooling  (None, 5, 5, 256)        0         \n",
            " 2D)                                                             \n",
            "                                                                 \n",
            " conv2d_2 (Conv2D)           (None, 5, 5, 384)         885120    \n",
            "                                                                 \n",
            " conv2d_3 (Conv2D)           (None, 5, 5, 384)         1327488   \n",
            "                                                                 \n",
            " conv2d_4 (Conv2D)           (None, 5, 5, 256)         884992    \n",
            "                                                                 \n",
            " batch_normalization_2 (Batc  (None, 5, 5, 256)        1024      \n",
            " hNormalization)                                                 \n",
            "                                                                 \n",
            " max_pooling2d_2 (MaxPooling  (None, 2, 2, 256)        0         \n",
            " 2D)                                                             \n",
            "                                                                 \n",
            " flatten (Flatten)           (None, 1024)              0         \n",
            "                                                                 \n",
            " dense (Dense)               (None, 4096)              4198400   \n",
            "                                                                 \n",
            " dense_1 (Dense)             (None, 4096)              16781312  \n",
            "                                                                 \n",
            " dense_2 (Dense)             (None, 4)                 16388     \n",
            "                                                                 \n",
            "=================================================================\n",
            "Total params: 24,722,500\n",
            "Trainable params: 24,721,284\n",
            "Non-trainable params: 1,216\n",
            "_________________________________________________________________\n"
          ]
        }
      ],
      "source": [
        "### --- summary and compiling the model\n",
        "\n",
        "input_shape = 100, 100, 1\n",
        "n_classes = 4\n",
        "\n",
        "K.clear_session()\n",
        "model_alexnet = alexnet(input_shape, n_classes)\n",
        "model_alexnet.compile(loss='categorical_crossentropy',\n",
        "              optimizer='adam',\n",
        "              metrics=['accuracy'])\n",
        "model_alexnet.summary()"
      ]
    },
    {
      "cell_type": "code",
      "execution_count": null,
      "metadata": {
        "colab": {
          "background_save": true
        },
        "id": "ChU5HelYs3xv",
        "outputId": "9020c1e3-e257-41c1-ea7c-22d1ac65415a"
      },
      "outputs": [
        {
          "name": "stdout",
          "output_type": "stream",
          "text": [
            "Epoch 1/15\n",
            "88/88 [==============================] - 104s 1s/step - loss: 1.3864 - accuracy: 0.2468 - val_loss: 1.3862 - val_accuracy: 0.2350\n",
            "Epoch 2/15\n",
            "88/88 [==============================] - 103s 1s/step - loss: 1.3851 - accuracy: 0.3129 - val_loss: 1.3840 - val_accuracy: 0.2350\n",
            "Epoch 3/15\n",
            "88/88 [==============================] - 103s 1s/step - loss: 1.3810 - accuracy: 0.3239 - val_loss: 1.3789 - val_accuracy: 0.4750\n",
            "Epoch 4/15\n",
            "88/88 [==============================] - 102s 1s/step - loss: 1.3644 - accuracy: 0.6171 - val_loss: 1.3650 - val_accuracy: 0.4167\n",
            "Epoch 5/15\n",
            "88/88 [==============================] - 102s 1s/step - loss: 1.3263 - accuracy: 0.5211 - val_loss: 1.3471 - val_accuracy: 0.3717\n",
            "Epoch 6/15\n",
            "88/88 [==============================] - 102s 1s/step - loss: 1.2714 - accuracy: 0.4843 - val_loss: 1.3981 - val_accuracy: 0.2550\n",
            "Epoch 7/15\n",
            "88/88 [==============================] - 102s 1s/step - loss: 1.2063 - accuracy: 0.4786 - val_loss: 1.4181 - val_accuracy: 0.2550\n",
            "Epoch 8/15\n",
            "88/88 [==============================] - 102s 1s/step - loss: 1.1215 - accuracy: 0.4932 - val_loss: 1.4521 - val_accuracy: 0.2550\n",
            "Epoch 9/15\n",
            "88/88 [==============================] - 102s 1s/step - loss: 1.0472 - accuracy: 0.4957 - val_loss: 1.0854 - val_accuracy: 0.5417\n",
            "Epoch 10/15\n",
            "88/88 [==============================] - 102s 1s/step - loss: 0.9836 - accuracy: 0.4950 - val_loss: 0.9820 - val_accuracy: 0.5183\n",
            "Epoch 11/15\n",
            "88/88 [==============================] - 103s 1s/step - loss: 0.9390 - accuracy: 0.4907 - val_loss: 0.9212 - val_accuracy: 0.4883\n",
            "Epoch 12/15\n",
            "88/88 [==============================] - 103s 1s/step - loss: 0.9042 - accuracy: 0.4921 - val_loss: 0.8906 - val_accuracy: 0.4833\n",
            "Epoch 13/15\n",
            "88/88 [==============================] - 103s 1s/step - loss: 0.8768 - accuracy: 0.4889 - val_loss: 0.8663 - val_accuracy: 0.4883\n",
            "Epoch 14/15\n",
            "88/88 [==============================] - 103s 1s/step - loss: 0.8551 - accuracy: 0.4996 - val_loss: 0.8472 - val_accuracy: 0.4883\n",
            "Epoch 15/15\n",
            "88/88 [==============================] - 104s 1s/step - loss: 0.8376 - accuracy: 0.4996 - val_loss: 0.8318 - val_accuracy: 0.4883\n"
          ]
        }
      ],
      "source": [
        "### --- Training the alexnet model\n",
        "\n",
        "model_Alexnet = model_alexnet.fit(X_train_q3, y_train_q3, epochs = 15, validation_data=(X_valid_q3, y_valid_q3))"
      ]
    },
    {
      "cell_type": "code",
      "execution_count": null,
      "metadata": {
        "colab": {
          "background_save": true
        },
        "id": "QZobX3sl0hXO",
        "outputId": "3c268223-a329-4ddc-a0c1-8d2a0e3691d3"
      },
      "outputs": [
        {
          "name": "stdout",
          "output_type": "stream",
          "text": [
            "19/19 [==============================] - 4s 226ms/step - loss: 0.8318 - accuracy: 0.4883\n",
            "Validation score: 0.8317584991455078\n",
            "Validation accuracy: 0.4883333444595337\n"
          ]
        }
      ],
      "source": [
        "### --- Evaluating the alexnet model\n",
        "\n",
        "score, acc = model_alexnet.evaluate(X_valid_q3, y_valid_q3)\n",
        "\n",
        "print('Validation score:', score)\n",
        "print('Validation accuracy:', acc)"
      ]
    },
    {
      "cell_type": "markdown",
      "metadata": {
        "id": "Y6qFQuRUSF7p"
      },
      "source": [
        "## ---- Xception"
      ]
    },
    {
      "cell_type": "code",
      "execution_count": null,
      "metadata": {
        "colab": {
          "background_save": true
        },
        "id": "Re07hwA7SETG"
      },
      "outputs": [],
      "source": [
        "### --- Creating a function for the xception \n",
        "\n",
        "def xception(input_shape, n_classes):\n",
        "  \n",
        "  def conv_bn(x, f, k, s=1, p='same'):\n",
        "    x = Conv2D(f, k, strides=s, padding=p, use_bias=False)(x)\n",
        "    x = BatchNormalization()(x)\n",
        "    return x\n",
        "  \n",
        "  def sep_bn(x, f, k, s=1, p='same'):\n",
        "    x = SeparableConv2D(f, k, strides=s, padding=p, use_bias=False)(x)\n",
        "    x = BatchNormalization()(x)\n",
        "    return x\n",
        "  \n",
        "  def entry_flow(x):\n",
        "    x = conv_bn(x, 32, 3, 2)\n",
        "    x = ReLU()(x)\n",
        "    x = conv_bn(x, 64, 3)\n",
        "    tensor = ReLU()(x)\n",
        "    \n",
        "    x = sep_bn(tensor, 50, 3)\n",
        "    x = ReLU()(x)\n",
        "    x = sep_bn(x, 50, 3)\n",
        "    x = MaxPool2D(3, strides=2, padding='same')(x)\n",
        "    \n",
        "    tensor = conv_bn(tensor, 50, 1, 2)\n",
        "    \n",
        "    x = Add()([tensor, x])\n",
        "    x = ReLU()(x)\n",
        "    x = sep_bn(x, 60, 3)\n",
        "    x = ReLU()(x)\n",
        "    x = sep_bn(x, 60, 3)\n",
        "    x = MaxPool2D(3, strides=2, padding='same')(x)\n",
        "    \n",
        "    tensor = conv_bn(tensor, 60, 1, 2)\n",
        "    \n",
        "    x = Add()([tensor, x])\n",
        "    x = ReLU()(x)\n",
        "    x = sep_bn(x, 70, 3)\n",
        "    x = ReLU()(x)\n",
        "    x = sep_bn(x, 70, 3)\n",
        "    x = MaxPool2D(3, strides=2, padding='same')(x)\n",
        "    \n",
        "    tensor = conv_bn(tensor, 70, 1, 2)\n",
        "    x = Add()([tensor, x])\n",
        "    \n",
        "    return x\n",
        "\n",
        "  def middle_flow(tensor):\n",
        "    for _ in range(8):\n",
        "      x = ReLU()(tensor)\n",
        "      x = sep_bn(x, 70, 3)\n",
        "      x = ReLU()(x)\n",
        "      x = sep_bn(x, 70, 3)\n",
        "      x = ReLU()(x)\n",
        "      x = sep_bn(x, 70, 3)\n",
        "\n",
        "      tensor = Add()([tensor, x])\n",
        "    \n",
        "    return tensor\n",
        "  \n",
        "  def exit_flow(tensor):\n",
        "    x = ReLU()(tensor)\n",
        "    x = sep_bn(x, 70, 3)\n",
        "    x = ReLU()(x)\n",
        "    x = sep_bn(x, 80, 3)\n",
        "    x = MaxPool2D(3, strides=2, padding='same')(x)\n",
        "    \n",
        "    tensor = conv_bn(tensor, 80, 1, 2)\n",
        "    \n",
        "    x = Add()([tensor, x])\n",
        "    x = sep_bn(x, 90, 3)\n",
        "    x = ReLU()(x)\n",
        "    x = sep_bn(x, 100, 3)\n",
        "    x = ReLU()(x)\n",
        "    x = GlobalAvgPool2D()(x)\n",
        "    x = Dense(n_classes, activation='softmax')(x)\n",
        "  \n",
        "    return x\n",
        "\n",
        "  input = Input(input_shape)\n",
        "  \n",
        "  x = entry_flow(input)\n",
        "  x = middle_flow(x)\n",
        "  output = exit_flow(x)\n",
        "  \n",
        "  model_xception = Model(input, output)\n",
        "  \n",
        "  return model_xception"
      ]
    },
    {
      "cell_type": "code",
      "execution_count": null,
      "metadata": {
        "colab": {
          "background_save": true,
          "base_uri": "https://localhost:8080/"
        },
        "id": "_68bZ9RjSfnS",
        "outputId": "41de0db7-9a29-422c-bca4-65b81023efdc"
      },
      "outputs": [
        {
          "name": "stdout",
          "output_type": "stream",
          "text": [
            "Model: \"model\"\n",
            "__________________________________________________________________________________________________\n",
            " Layer (type)                   Output Shape         Param #     Connected to                     \n",
            "==================================================================================================\n",
            " input_1 (InputLayer)           [(None, 100, 100, 1  0           []                               \n",
            "                                )]                                                                \n",
            "                                                                                                  \n",
            " conv2d (Conv2D)                (None, 50, 50, 32)   288         ['input_1[0][0]']                \n",
            "                                                                                                  \n",
            " batch_normalization (BatchNorm  (None, 50, 50, 32)  128         ['conv2d[0][0]']                 \n",
            " alization)                                                                                       \n",
            "                                                                                                  \n",
            " re_lu (ReLU)                   (None, 50, 50, 32)   0           ['batch_normalization[0][0]']    \n",
            "                                                                                                  \n",
            " conv2d_1 (Conv2D)              (None, 50, 50, 64)   18432       ['re_lu[0][0]']                  \n",
            "                                                                                                  \n",
            " batch_normalization_1 (BatchNo  (None, 50, 50, 64)  256         ['conv2d_1[0][0]']               \n",
            " rmalization)                                                                                     \n",
            "                                                                                                  \n",
            " re_lu_1 (ReLU)                 (None, 50, 50, 64)   0           ['batch_normalization_1[0][0]']  \n",
            "                                                                                                  \n",
            " separable_conv2d (SeparableCon  (None, 50, 50, 50)  3776        ['re_lu_1[0][0]']                \n",
            " v2D)                                                                                             \n",
            "                                                                                                  \n",
            " batch_normalization_2 (BatchNo  (None, 50, 50, 50)  200         ['separable_conv2d[0][0]']       \n",
            " rmalization)                                                                                     \n",
            "                                                                                                  \n",
            " re_lu_2 (ReLU)                 (None, 50, 50, 50)   0           ['batch_normalization_2[0][0]']  \n",
            "                                                                                                  \n",
            " separable_conv2d_1 (SeparableC  (None, 50, 50, 50)  2950        ['re_lu_2[0][0]']                \n",
            " onv2D)                                                                                           \n",
            "                                                                                                  \n",
            " conv2d_2 (Conv2D)              (None, 25, 25, 50)   3200        ['re_lu_1[0][0]']                \n",
            "                                                                                                  \n",
            " batch_normalization_3 (BatchNo  (None, 50, 50, 50)  200         ['separable_conv2d_1[0][0]']     \n",
            " rmalization)                                                                                     \n",
            "                                                                                                  \n",
            " batch_normalization_4 (BatchNo  (None, 25, 25, 50)  200         ['conv2d_2[0][0]']               \n",
            " rmalization)                                                                                     \n",
            "                                                                                                  \n",
            " max_pooling2d (MaxPooling2D)   (None, 25, 25, 50)   0           ['batch_normalization_3[0][0]']  \n",
            "                                                                                                  \n",
            " add (Add)                      (None, 25, 25, 50)   0           ['batch_normalization_4[0][0]',  \n",
            "                                                                  'max_pooling2d[0][0]']          \n",
            "                                                                                                  \n",
            " re_lu_3 (ReLU)                 (None, 25, 25, 50)   0           ['add[0][0]']                    \n",
            "                                                                                                  \n",
            " separable_conv2d_2 (SeparableC  (None, 25, 25, 60)  3450        ['re_lu_3[0][0]']                \n",
            " onv2D)                                                                                           \n",
            "                                                                                                  \n",
            " batch_normalization_5 (BatchNo  (None, 25, 25, 60)  240         ['separable_conv2d_2[0][0]']     \n",
            " rmalization)                                                                                     \n",
            "                                                                                                  \n",
            " re_lu_4 (ReLU)                 (None, 25, 25, 60)   0           ['batch_normalization_5[0][0]']  \n",
            "                                                                                                  \n",
            " separable_conv2d_3 (SeparableC  (None, 25, 25, 60)  4140        ['re_lu_4[0][0]']                \n",
            " onv2D)                                                                                           \n",
            "                                                                                                  \n",
            " conv2d_3 (Conv2D)              (None, 13, 13, 60)   3000        ['batch_normalization_4[0][0]']  \n",
            "                                                                                                  \n",
            " batch_normalization_6 (BatchNo  (None, 25, 25, 60)  240         ['separable_conv2d_3[0][0]']     \n",
            " rmalization)                                                                                     \n",
            "                                                                                                  \n",
            " batch_normalization_7 (BatchNo  (None, 13, 13, 60)  240         ['conv2d_3[0][0]']               \n",
            " rmalization)                                                                                     \n",
            "                                                                                                  \n",
            " max_pooling2d_1 (MaxPooling2D)  (None, 13, 13, 60)  0           ['batch_normalization_6[0][0]']  \n",
            "                                                                                                  \n",
            " add_1 (Add)                    (None, 13, 13, 60)   0           ['batch_normalization_7[0][0]',  \n",
            "                                                                  'max_pooling2d_1[0][0]']        \n",
            "                                                                                                  \n",
            " re_lu_5 (ReLU)                 (None, 13, 13, 60)   0           ['add_1[0][0]']                  \n",
            "                                                                                                  \n",
            " separable_conv2d_4 (SeparableC  (None, 13, 13, 70)  4740        ['re_lu_5[0][0]']                \n",
            " onv2D)                                                                                           \n",
            "                                                                                                  \n",
            " batch_normalization_8 (BatchNo  (None, 13, 13, 70)  280         ['separable_conv2d_4[0][0]']     \n",
            " rmalization)                                                                                     \n",
            "                                                                                                  \n",
            " re_lu_6 (ReLU)                 (None, 13, 13, 70)   0           ['batch_normalization_8[0][0]']  \n",
            "                                                                                                  \n",
            " separable_conv2d_5 (SeparableC  (None, 13, 13, 70)  5530        ['re_lu_6[0][0]']                \n",
            " onv2D)                                                                                           \n",
            "                                                                                                  \n",
            " conv2d_4 (Conv2D)              (None, 7, 7, 70)     4200        ['batch_normalization_7[0][0]']  \n",
            "                                                                                                  \n",
            " batch_normalization_9 (BatchNo  (None, 13, 13, 70)  280         ['separable_conv2d_5[0][0]']     \n",
            " rmalization)                                                                                     \n",
            "                                                                                                  \n",
            " batch_normalization_10 (BatchN  (None, 7, 7, 70)    280         ['conv2d_4[0][0]']               \n",
            " ormalization)                                                                                    \n",
            "                                                                                                  \n",
            " max_pooling2d_2 (MaxPooling2D)  (None, 7, 7, 70)    0           ['batch_normalization_9[0][0]']  \n",
            "                                                                                                  \n",
            " add_2 (Add)                    (None, 7, 7, 70)     0           ['batch_normalization_10[0][0]', \n",
            "                                                                  'max_pooling2d_2[0][0]']        \n",
            "                                                                                                  \n",
            " re_lu_7 (ReLU)                 (None, 7, 7, 70)     0           ['add_2[0][0]']                  \n",
            "                                                                                                  \n",
            " separable_conv2d_6 (SeparableC  (None, 7, 7, 70)    5530        ['re_lu_7[0][0]']                \n",
            " onv2D)                                                                                           \n",
            "                                                                                                  \n",
            " batch_normalization_11 (BatchN  (None, 7, 7, 70)    280         ['separable_conv2d_6[0][0]']     \n",
            " ormalization)                                                                                    \n",
            "                                                                                                  \n",
            " re_lu_8 (ReLU)                 (None, 7, 7, 70)     0           ['batch_normalization_11[0][0]'] \n",
            "                                                                                                  \n",
            " separable_conv2d_7 (SeparableC  (None, 7, 7, 70)    5530        ['re_lu_8[0][0]']                \n",
            " onv2D)                                                                                           \n",
            "                                                                                                  \n",
            " batch_normalization_12 (BatchN  (None, 7, 7, 70)    280         ['separable_conv2d_7[0][0]']     \n",
            " ormalization)                                                                                    \n",
            "                                                                                                  \n",
            " re_lu_9 (ReLU)                 (None, 7, 7, 70)     0           ['batch_normalization_12[0][0]'] \n",
            "                                                                                                  \n",
            " separable_conv2d_8 (SeparableC  (None, 7, 7, 70)    5530        ['re_lu_9[0][0]']                \n",
            " onv2D)                                                                                           \n",
            "                                                                                                  \n",
            " batch_normalization_13 (BatchN  (None, 7, 7, 70)    280         ['separable_conv2d_8[0][0]']     \n",
            " ormalization)                                                                                    \n",
            "                                                                                                  \n",
            " add_3 (Add)                    (None, 7, 7, 70)     0           ['add_2[0][0]',                  \n",
            "                                                                  'batch_normalization_13[0][0]'] \n",
            "                                                                                                  \n",
            " re_lu_10 (ReLU)                (None, 7, 7, 70)     0           ['add_3[0][0]']                  \n",
            "                                                                                                  \n",
            " separable_conv2d_9 (SeparableC  (None, 7, 7, 70)    5530        ['re_lu_10[0][0]']               \n",
            " onv2D)                                                                                           \n",
            "                                                                                                  \n",
            " batch_normalization_14 (BatchN  (None, 7, 7, 70)    280         ['separable_conv2d_9[0][0]']     \n",
            " ormalization)                                                                                    \n",
            "                                                                                                  \n",
            " re_lu_11 (ReLU)                (None, 7, 7, 70)     0           ['batch_normalization_14[0][0]'] \n",
            "                                                                                                  \n",
            " separable_conv2d_10 (Separable  (None, 7, 7, 70)    5530        ['re_lu_11[0][0]']               \n",
            " Conv2D)                                                                                          \n",
            "                                                                                                  \n",
            " batch_normalization_15 (BatchN  (None, 7, 7, 70)    280         ['separable_conv2d_10[0][0]']    \n",
            " ormalization)                                                                                    \n",
            "                                                                                                  \n",
            " re_lu_12 (ReLU)                (None, 7, 7, 70)     0           ['batch_normalization_15[0][0]'] \n",
            "                                                                                                  \n",
            " separable_conv2d_11 (Separable  (None, 7, 7, 70)    5530        ['re_lu_12[0][0]']               \n",
            " Conv2D)                                                                                          \n",
            "                                                                                                  \n",
            " batch_normalization_16 (BatchN  (None, 7, 7, 70)    280         ['separable_conv2d_11[0][0]']    \n",
            " ormalization)                                                                                    \n",
            "                                                                                                  \n",
            " add_4 (Add)                    (None, 7, 7, 70)     0           ['add_3[0][0]',                  \n",
            "                                                                  'batch_normalization_16[0][0]'] \n",
            "                                                                                                  \n",
            " re_lu_13 (ReLU)                (None, 7, 7, 70)     0           ['add_4[0][0]']                  \n",
            "                                                                                                  \n",
            " separable_conv2d_12 (Separable  (None, 7, 7, 70)    5530        ['re_lu_13[0][0]']               \n",
            " Conv2D)                                                                                          \n",
            "                                                                                                  \n",
            " batch_normalization_17 (BatchN  (None, 7, 7, 70)    280         ['separable_conv2d_12[0][0]']    \n",
            " ormalization)                                                                                    \n",
            "                                                                                                  \n",
            " re_lu_14 (ReLU)                (None, 7, 7, 70)     0           ['batch_normalization_17[0][0]'] \n",
            "                                                                                                  \n",
            " separable_conv2d_13 (Separable  (None, 7, 7, 70)    5530        ['re_lu_14[0][0]']               \n",
            " Conv2D)                                                                                          \n",
            "                                                                                                  \n",
            " batch_normalization_18 (BatchN  (None, 7, 7, 70)    280         ['separable_conv2d_13[0][0]']    \n",
            " ormalization)                                                                                    \n",
            "                                                                                                  \n",
            " re_lu_15 (ReLU)                (None, 7, 7, 70)     0           ['batch_normalization_18[0][0]'] \n",
            "                                                                                                  \n",
            " separable_conv2d_14 (Separable  (None, 7, 7, 70)    5530        ['re_lu_15[0][0]']               \n",
            " Conv2D)                                                                                          \n",
            "                                                                                                  \n",
            " batch_normalization_19 (BatchN  (None, 7, 7, 70)    280         ['separable_conv2d_14[0][0]']    \n",
            " ormalization)                                                                                    \n",
            "                                                                                                  \n",
            " add_5 (Add)                    (None, 7, 7, 70)     0           ['add_4[0][0]',                  \n",
            "                                                                  'batch_normalization_19[0][0]'] \n",
            "                                                                                                  \n",
            " re_lu_16 (ReLU)                (None, 7, 7, 70)     0           ['add_5[0][0]']                  \n",
            "                                                                                                  \n",
            " separable_conv2d_15 (Separable  (None, 7, 7, 70)    5530        ['re_lu_16[0][0]']               \n",
            " Conv2D)                                                                                          \n",
            "                                                                                                  \n",
            " batch_normalization_20 (BatchN  (None, 7, 7, 70)    280         ['separable_conv2d_15[0][0]']    \n",
            " ormalization)                                                                                    \n",
            "                                                                                                  \n",
            " re_lu_17 (ReLU)                (None, 7, 7, 70)     0           ['batch_normalization_20[0][0]'] \n",
            "                                                                                                  \n",
            " separable_conv2d_16 (Separable  (None, 7, 7, 70)    5530        ['re_lu_17[0][0]']               \n",
            " Conv2D)                                                                                          \n",
            "                                                                                                  \n",
            " batch_normalization_21 (BatchN  (None, 7, 7, 70)    280         ['separable_conv2d_16[0][0]']    \n",
            " ormalization)                                                                                    \n",
            "                                                                                                  \n",
            " re_lu_18 (ReLU)                (None, 7, 7, 70)     0           ['batch_normalization_21[0][0]'] \n",
            "                                                                                                  \n",
            " separable_conv2d_17 (Separable  (None, 7, 7, 70)    5530        ['re_lu_18[0][0]']               \n",
            " Conv2D)                                                                                          \n",
            "                                                                                                  \n",
            " batch_normalization_22 (BatchN  (None, 7, 7, 70)    280         ['separable_conv2d_17[0][0]']    \n",
            " ormalization)                                                                                    \n",
            "                                                                                                  \n",
            " add_6 (Add)                    (None, 7, 7, 70)     0           ['add_5[0][0]',                  \n",
            "                                                                  'batch_normalization_22[0][0]'] \n",
            "                                                                                                  \n",
            " re_lu_19 (ReLU)                (None, 7, 7, 70)     0           ['add_6[0][0]']                  \n",
            "                                                                                                  \n",
            " separable_conv2d_18 (Separable  (None, 7, 7, 70)    5530        ['re_lu_19[0][0]']               \n",
            " Conv2D)                                                                                          \n",
            "                                                                                                  \n",
            " batch_normalization_23 (BatchN  (None, 7, 7, 70)    280         ['separable_conv2d_18[0][0]']    \n",
            " ormalization)                                                                                    \n",
            "                                                                                                  \n",
            " re_lu_20 (ReLU)                (None, 7, 7, 70)     0           ['batch_normalization_23[0][0]'] \n",
            "                                                                                                  \n",
            " separable_conv2d_19 (Separable  (None, 7, 7, 70)    5530        ['re_lu_20[0][0]']               \n",
            " Conv2D)                                                                                          \n",
            "                                                                                                  \n",
            " batch_normalization_24 (BatchN  (None, 7, 7, 70)    280         ['separable_conv2d_19[0][0]']    \n",
            " ormalization)                                                                                    \n",
            "                                                                                                  \n",
            " re_lu_21 (ReLU)                (None, 7, 7, 70)     0           ['batch_normalization_24[0][0]'] \n",
            "                                                                                                  \n",
            " separable_conv2d_20 (Separable  (None, 7, 7, 70)    5530        ['re_lu_21[0][0]']               \n",
            " Conv2D)                                                                                          \n",
            "                                                                                                  \n",
            " batch_normalization_25 (BatchN  (None, 7, 7, 70)    280         ['separable_conv2d_20[0][0]']    \n",
            " ormalization)                                                                                    \n",
            "                                                                                                  \n",
            " add_7 (Add)                    (None, 7, 7, 70)     0           ['add_6[0][0]',                  \n",
            "                                                                  'batch_normalization_25[0][0]'] \n",
            "                                                                                                  \n",
            " re_lu_22 (ReLU)                (None, 7, 7, 70)     0           ['add_7[0][0]']                  \n",
            "                                                                                                  \n",
            " separable_conv2d_21 (Separable  (None, 7, 7, 70)    5530        ['re_lu_22[0][0]']               \n",
            " Conv2D)                                                                                          \n",
            "                                                                                                  \n",
            " batch_normalization_26 (BatchN  (None, 7, 7, 70)    280         ['separable_conv2d_21[0][0]']    \n",
            " ormalization)                                                                                    \n",
            "                                                                                                  \n",
            " re_lu_23 (ReLU)                (None, 7, 7, 70)     0           ['batch_normalization_26[0][0]'] \n",
            "                                                                                                  \n",
            " separable_conv2d_22 (Separable  (None, 7, 7, 70)    5530        ['re_lu_23[0][0]']               \n",
            " Conv2D)                                                                                          \n",
            "                                                                                                  \n",
            " batch_normalization_27 (BatchN  (None, 7, 7, 70)    280         ['separable_conv2d_22[0][0]']    \n",
            " ormalization)                                                                                    \n",
            "                                                                                                  \n",
            " re_lu_24 (ReLU)                (None, 7, 7, 70)     0           ['batch_normalization_27[0][0]'] \n",
            "                                                                                                  \n",
            " separable_conv2d_23 (Separable  (None, 7, 7, 70)    5530        ['re_lu_24[0][0]']               \n",
            " Conv2D)                                                                                          \n",
            "                                                                                                  \n",
            " batch_normalization_28 (BatchN  (None, 7, 7, 70)    280         ['separable_conv2d_23[0][0]']    \n",
            " ormalization)                                                                                    \n",
            "                                                                                                  \n",
            " add_8 (Add)                    (None, 7, 7, 70)     0           ['add_7[0][0]',                  \n",
            "                                                                  'batch_normalization_28[0][0]'] \n",
            "                                                                                                  \n",
            " re_lu_25 (ReLU)                (None, 7, 7, 70)     0           ['add_8[0][0]']                  \n",
            "                                                                                                  \n",
            " separable_conv2d_24 (Separable  (None, 7, 7, 70)    5530        ['re_lu_25[0][0]']               \n",
            " Conv2D)                                                                                          \n",
            "                                                                                                  \n",
            " batch_normalization_29 (BatchN  (None, 7, 7, 70)    280         ['separable_conv2d_24[0][0]']    \n",
            " ormalization)                                                                                    \n",
            "                                                                                                  \n",
            " re_lu_26 (ReLU)                (None, 7, 7, 70)     0           ['batch_normalization_29[0][0]'] \n",
            "                                                                                                  \n",
            " separable_conv2d_25 (Separable  (None, 7, 7, 70)    5530        ['re_lu_26[0][0]']               \n",
            " Conv2D)                                                                                          \n",
            "                                                                                                  \n",
            " batch_normalization_30 (BatchN  (None, 7, 7, 70)    280         ['separable_conv2d_25[0][0]']    \n",
            " ormalization)                                                                                    \n",
            "                                                                                                  \n",
            " re_lu_27 (ReLU)                (None, 7, 7, 70)     0           ['batch_normalization_30[0][0]'] \n",
            "                                                                                                  \n",
            " separable_conv2d_26 (Separable  (None, 7, 7, 70)    5530        ['re_lu_27[0][0]']               \n",
            " Conv2D)                                                                                          \n",
            "                                                                                                  \n",
            " batch_normalization_31 (BatchN  (None, 7, 7, 70)    280         ['separable_conv2d_26[0][0]']    \n",
            " ormalization)                                                                                    \n",
            "                                                                                                  \n",
            " add_9 (Add)                    (None, 7, 7, 70)     0           ['add_8[0][0]',                  \n",
            "                                                                  'batch_normalization_31[0][0]'] \n",
            "                                                                                                  \n",
            " re_lu_28 (ReLU)                (None, 7, 7, 70)     0           ['add_9[0][0]']                  \n",
            "                                                                                                  \n",
            " separable_conv2d_27 (Separable  (None, 7, 7, 70)    5530        ['re_lu_28[0][0]']               \n",
            " Conv2D)                                                                                          \n",
            "                                                                                                  \n",
            " batch_normalization_32 (BatchN  (None, 7, 7, 70)    280         ['separable_conv2d_27[0][0]']    \n",
            " ormalization)                                                                                    \n",
            "                                                                                                  \n",
            " re_lu_29 (ReLU)                (None, 7, 7, 70)     0           ['batch_normalization_32[0][0]'] \n",
            "                                                                                                  \n",
            " separable_conv2d_28 (Separable  (None, 7, 7, 70)    5530        ['re_lu_29[0][0]']               \n",
            " Conv2D)                                                                                          \n",
            "                                                                                                  \n",
            " batch_normalization_33 (BatchN  (None, 7, 7, 70)    280         ['separable_conv2d_28[0][0]']    \n",
            " ormalization)                                                                                    \n",
            "                                                                                                  \n",
            " re_lu_30 (ReLU)                (None, 7, 7, 70)     0           ['batch_normalization_33[0][0]'] \n",
            "                                                                                                  \n",
            " separable_conv2d_29 (Separable  (None, 7, 7, 70)    5530        ['re_lu_30[0][0]']               \n",
            " Conv2D)                                                                                          \n",
            "                                                                                                  \n",
            " batch_normalization_34 (BatchN  (None, 7, 7, 70)    280         ['separable_conv2d_29[0][0]']    \n",
            " ormalization)                                                                                    \n",
            "                                                                                                  \n",
            " add_10 (Add)                   (None, 7, 7, 70)     0           ['add_9[0][0]',                  \n",
            "                                                                  'batch_normalization_34[0][0]'] \n",
            "                                                                                                  \n",
            " re_lu_31 (ReLU)                (None, 7, 7, 70)     0           ['add_10[0][0]']                 \n",
            "                                                                                                  \n",
            " separable_conv2d_30 (Separable  (None, 7, 7, 70)    5530        ['re_lu_31[0][0]']               \n",
            " Conv2D)                                                                                          \n",
            "                                                                                                  \n",
            " batch_normalization_35 (BatchN  (None, 7, 7, 70)    280         ['separable_conv2d_30[0][0]']    \n",
            " ormalization)                                                                                    \n",
            "                                                                                                  \n",
            " re_lu_32 (ReLU)                (None, 7, 7, 70)     0           ['batch_normalization_35[0][0]'] \n",
            "                                                                                                  \n",
            " separable_conv2d_31 (Separable  (None, 7, 7, 80)    6230        ['re_lu_32[0][0]']               \n",
            " Conv2D)                                                                                          \n",
            "                                                                                                  \n",
            " conv2d_5 (Conv2D)              (None, 4, 4, 80)     5600        ['add_10[0][0]']                 \n",
            "                                                                                                  \n",
            " batch_normalization_36 (BatchN  (None, 7, 7, 80)    320         ['separable_conv2d_31[0][0]']    \n",
            " ormalization)                                                                                    \n",
            "                                                                                                  \n",
            " batch_normalization_37 (BatchN  (None, 4, 4, 80)    320         ['conv2d_5[0][0]']               \n",
            " ormalization)                                                                                    \n",
            "                                                                                                  \n",
            " max_pooling2d_3 (MaxPooling2D)  (None, 4, 4, 80)    0           ['batch_normalization_36[0][0]'] \n",
            "                                                                                                  \n",
            " add_11 (Add)                   (None, 4, 4, 80)     0           ['batch_normalization_37[0][0]', \n",
            "                                                                  'max_pooling2d_3[0][0]']        \n",
            "                                                                                                  \n",
            " separable_conv2d_32 (Separable  (None, 4, 4, 90)    7920        ['add_11[0][0]']                 \n",
            " Conv2D)                                                                                          \n",
            "                                                                                                  \n",
            " batch_normalization_38 (BatchN  (None, 4, 4, 90)    360         ['separable_conv2d_32[0][0]']    \n",
            " ormalization)                                                                                    \n",
            "                                                                                                  \n",
            " re_lu_33 (ReLU)                (None, 4, 4, 90)     0           ['batch_normalization_38[0][0]'] \n",
            "                                                                                                  \n",
            " separable_conv2d_33 (Separable  (None, 4, 4, 100)   9810        ['re_lu_33[0][0]']               \n",
            " Conv2D)                                                                                          \n",
            "                                                                                                  \n",
            " batch_normalization_39 (BatchN  (None, 4, 4, 100)   400         ['separable_conv2d_33[0][0]']    \n",
            " ormalization)                                                                                    \n",
            "                                                                                                  \n",
            " re_lu_34 (ReLU)                (None, 4, 4, 100)    0           ['batch_normalization_39[0][0]'] \n",
            "                                                                                                  \n",
            " global_average_pooling2d (Glob  (None, 100)         0           ['re_lu_34[0][0]']               \n",
            " alAveragePooling2D)                                                                              \n",
            "                                                                                                  \n",
            " dense (Dense)                  (None, 4)            404         ['global_average_pooling2d[0][0]'\n",
            "                                                                 ]                                \n",
            "                                                                                                  \n",
            "==================================================================================================\n",
            "Total params: 232,864\n",
            "Trainable params: 227,392\n",
            "Non-trainable params: 5,472\n",
            "__________________________________________________________________________________________________\n"
          ]
        }
      ],
      "source": [
        "### --- summary and compiling the xception model\n",
        "\n",
        "input_shape = 100, 100, 1\n",
        "n_classes = 4\n",
        "\n",
        "K.clear_session()\n",
        "model_xception = xception(input_shape, n_classes)\n",
        "model_xception.compile(loss='categorical_crossentropy',\n",
        "              optimizer='adam',\n",
        "              metrics=['accuracy'])\n",
        "model_xception.summary()"
      ]
    },
    {
      "cell_type": "code",
      "execution_count": null,
      "metadata": {
        "colab": {
          "background_save": true,
          "base_uri": "https://localhost:8080/"
        },
        "id": "tA6_4khFYJxD",
        "outputId": "6f58af77-c9fd-4313-ad8c-7fb9d2b53c99"
      },
      "outputs": [
        {
          "name": "stdout",
          "output_type": "stream",
          "text": [
            "Epoch 1/15\n",
            "88/88 [==============================] - 93s 998ms/step - loss: 0.4208 - accuracy: 0.8529 - val_loss: 1.3922 - val_accuracy: 0.2533\n",
            "Epoch 2/15\n",
            "88/88 [==============================] - 87s 984ms/step - loss: 0.2643 - accuracy: 0.8925 - val_loss: 1.4229 - val_accuracy: 0.2533\n",
            "Epoch 3/15\n",
            "88/88 [==============================] - 87s 988ms/step - loss: 0.2380 - accuracy: 0.8989 - val_loss: 1.5396 - val_accuracy: 0.2533\n",
            "Epoch 4/15\n",
            "88/88 [==============================] - 87s 987ms/step - loss: 0.2309 - accuracy: 0.9011 - val_loss: 1.9352 - val_accuracy: 0.2533\n",
            "Epoch 5/15\n",
            "88/88 [==============================] - 86s 982ms/step - loss: 0.2265 - accuracy: 0.9000 - val_loss: 2.4802 - val_accuracy: 0.2533\n",
            "Epoch 6/15\n",
            "88/88 [==============================] - 86s 982ms/step - loss: 0.2365 - accuracy: 0.8968 - val_loss: 1.4677 - val_accuracy: 0.5000\n",
            "Epoch 7/15\n",
            "88/88 [==============================] - 87s 985ms/step - loss: 0.2266 - accuracy: 0.8986 - val_loss: 0.5612 - val_accuracy: 0.7200\n",
            "Epoch 8/15\n",
            "88/88 [==============================] - 86s 980ms/step - loss: 0.2159 - accuracy: 0.9021 - val_loss: 0.2462 - val_accuracy: 0.9067\n",
            "Epoch 9/15\n",
            "88/88 [==============================] - 86s 981ms/step - loss: 0.2182 - accuracy: 0.9007 - val_loss: 0.3399 - val_accuracy: 0.8767\n",
            "Epoch 10/15\n",
            "88/88 [==============================] - 87s 994ms/step - loss: 0.2117 - accuracy: 0.9043 - val_loss: 0.3307 - val_accuracy: 0.8700\n",
            "Epoch 11/15\n",
            "88/88 [==============================] - 87s 985ms/step - loss: 0.2088 - accuracy: 0.8979 - val_loss: 0.7616 - val_accuracy: 0.6483\n",
            "Epoch 12/15\n",
            "88/88 [==============================] - 86s 982ms/step - loss: 0.2430 - accuracy: 0.8939 - val_loss: 4.3885 - val_accuracy: 0.3800\n",
            "Epoch 13/15\n",
            "88/88 [==============================] - 86s 981ms/step - loss: 0.2328 - accuracy: 0.8993 - val_loss: 0.2633 - val_accuracy: 0.9000\n",
            "Epoch 14/15\n",
            "88/88 [==============================] - 86s 981ms/step - loss: 0.2147 - accuracy: 0.9039 - val_loss: 0.2494 - val_accuracy: 0.9067\n",
            "Epoch 15/15\n",
            "88/88 [==============================] - 86s 976ms/step - loss: 0.2108 - accuracy: 0.9011 - val_loss: 0.2508 - val_accuracy: 0.8950\n"
          ]
        }
      ],
      "source": [
        "### --- Training the xception model \n",
        "\n",
        "model_Xception = model_xception.fit(X_train_q3, y_train_q3, epochs = 15, validation_data=(X_valid_q3, y_valid_q3))"
      ]
    },
    {
      "cell_type": "code",
      "execution_count": null,
      "metadata": {
        "colab": {
          "background_save": true,
          "base_uri": "https://localhost:8080/"
        },
        "id": "2saZqxon0m95",
        "outputId": "c9b56ff5-2fa7-4648-f01c-ce587deb7feb"
      },
      "outputs": [
        {
          "name": "stdout",
          "output_type": "stream",
          "text": [
            "19/19 [==============================] - 3s 178ms/step - loss: 0.2508 - accuracy: 0.8950\n",
            "Validation score: 0.25075972080230713\n",
            "Validation accuracy: 0.8949999809265137\n"
          ]
        }
      ],
      "source": [
        "### --- Evaluating the xception model\n",
        "\n",
        "score, acc = model_xception.evaluate(X_valid_q3, y_valid_q3)\n",
        "\n",
        "print('Validation score:', score)\n",
        "print('Validation accuracy:', acc)"
      ]
    },
    {
      "cell_type": "markdown",
      "metadata": {
        "id": "7iaVqxAIXflh"
      },
      "source": [
        "## --- Google Net"
      ]
    },
    {
      "cell_type": "code",
      "execution_count": null,
      "metadata": {
        "colab": {
          "background_save": true
        },
        "id": "gsNHB3xLXFkd"
      },
      "outputs": [],
      "source": [
        "### --- Creating a Google Net function with an inception block \n",
        "\n",
        "def googlenet(input_shape, n_classes):\n",
        "  \n",
        "  def inception_block(x, f):\n",
        "    t1 = Conv2D(f[0], 1, activation='relu')(x)\n",
        "    \n",
        "    t2 = Conv2D(f[1], 1, activation='relu')(x)\n",
        "    t2 = Conv2D(f[2], 3, padding='same', activation='relu')(t2)\n",
        "    \n",
        "    t3 = Conv2D(f[3], 1, activation='relu')(x)\n",
        "    t3 = Conv2D(f[4], 5, padding='same', activation='relu')(t3)\n",
        "    \n",
        "    t4 = MaxPool2D(3, 1, padding='same')(x)\n",
        "    t4 = Conv2D(f[5], 1, activation='relu')(t4)\n",
        "    \n",
        "    output = Concatenate()([t1, t2, t3, t4])\n",
        "    return output\n",
        "  \n",
        "  input = Input(input_shape)\n",
        "  \n",
        "  x = Conv2D(64, 7, strides=2, padding='same', activation='relu')(input)\n",
        "  x = MaxPool2D(3, strides=2, padding='same')(x)\n",
        "  \n",
        "  x = Conv2D(64, 1, activation='relu')(x)\n",
        "  x = Conv2D(192, 3, padding='same', activation='relu')(x)\n",
        "  x = MaxPool2D(3, strides=2)(x)\n",
        "  \n",
        "  x = inception_block(x, [64, 96, 128, 16, 32, 32])\n",
        "  x = inception_block(x, [128, 128, 192, 32, 96, 64])\n",
        "  x = MaxPool2D(3, strides=2, padding='same')(x)\n",
        "  \n",
        "  x = inception_block(x, [192, 96, 208, 16, 48, 64])\n",
        "  x = inception_block(x, [160, 112, 224, 24, 64, 64])\n",
        "  x = inception_block(x, [128, 128, 256, 24, 64, 64])\n",
        "  x = inception_block(x, [112, 144, 288, 32, 64, 64])\n",
        "  x = inception_block(x, [256, 160, 320, 32, 128, 128])\n",
        "  x = MaxPool2D(3, strides=2, padding='same')(x)\n",
        "\n",
        "  x = inception_block(x, [256, 160, 320, 32, 128, 128])\n",
        "  x = inception_block(x, [384, 192, 384, 48, 128, 128])\n",
        "  \n",
        "  x = Dropout(0.4)(x)\n",
        "  \n",
        "  x = Flatten()(x)\n",
        "  output = Dense(n_classes, activation='softmax')(x)\n",
        "  \n",
        "  model_google_net = Model(input, output)\n",
        "  return model_google_net\n"
      ]
    },
    {
      "cell_type": "code",
      "execution_count": null,
      "metadata": {
        "colab": {
          "background_save": true,
          "base_uri": "https://localhost:8080/"
        },
        "id": "ifdM7qmMXmGS",
        "outputId": "30cfa7de-9133-4bd5-effd-e1a94148a4e4"
      },
      "outputs": [
        {
          "name": "stdout",
          "output_type": "stream",
          "text": [
            "Model: \"model\"\n",
            "__________________________________________________________________________________________________\n",
            " Layer (type)                   Output Shape         Param #     Connected to                     \n",
            "==================================================================================================\n",
            " input_1 (InputLayer)           [(None, 100, 100, 1  0           []                               \n",
            "                                )]                                                                \n",
            "                                                                                                  \n",
            " conv2d (Conv2D)                (None, 50, 50, 64)   3200        ['input_1[0][0]']                \n",
            "                                                                                                  \n",
            " max_pooling2d (MaxPooling2D)   (None, 25, 25, 64)   0           ['conv2d[0][0]']                 \n",
            "                                                                                                  \n",
            " conv2d_1 (Conv2D)              (None, 25, 25, 64)   4160        ['max_pooling2d[0][0]']          \n",
            "                                                                                                  \n",
            " conv2d_2 (Conv2D)              (None, 25, 25, 192)  110784      ['conv2d_1[0][0]']               \n",
            "                                                                                                  \n",
            " max_pooling2d_1 (MaxPooling2D)  (None, 12, 12, 192)  0          ['conv2d_2[0][0]']               \n",
            "                                                                                                  \n",
            " conv2d_4 (Conv2D)              (None, 12, 12, 96)   18528       ['max_pooling2d_1[0][0]']        \n",
            "                                                                                                  \n",
            " conv2d_6 (Conv2D)              (None, 12, 12, 16)   3088        ['max_pooling2d_1[0][0]']        \n",
            "                                                                                                  \n",
            " max_pooling2d_2 (MaxPooling2D)  (None, 12, 12, 192)  0          ['max_pooling2d_1[0][0]']        \n",
            "                                                                                                  \n",
            " conv2d_3 (Conv2D)              (None, 12, 12, 64)   12352       ['max_pooling2d_1[0][0]']        \n",
            "                                                                                                  \n",
            " conv2d_5 (Conv2D)              (None, 12, 12, 128)  110720      ['conv2d_4[0][0]']               \n",
            "                                                                                                  \n",
            " conv2d_7 (Conv2D)              (None, 12, 12, 32)   12832       ['conv2d_6[0][0]']               \n",
            "                                                                                                  \n",
            " conv2d_8 (Conv2D)              (None, 12, 12, 32)   6176        ['max_pooling2d_2[0][0]']        \n",
            "                                                                                                  \n",
            " concatenate (Concatenate)      (None, 12, 12, 256)  0           ['conv2d_3[0][0]',               \n",
            "                                                                  'conv2d_5[0][0]',               \n",
            "                                                                  'conv2d_7[0][0]',               \n",
            "                                                                  'conv2d_8[0][0]']               \n",
            "                                                                                                  \n",
            " conv2d_10 (Conv2D)             (None, 12, 12, 128)  32896       ['concatenate[0][0]']            \n",
            "                                                                                                  \n",
            " conv2d_12 (Conv2D)             (None, 12, 12, 32)   8224        ['concatenate[0][0]']            \n",
            "                                                                                                  \n",
            " max_pooling2d_3 (MaxPooling2D)  (None, 12, 12, 256)  0          ['concatenate[0][0]']            \n",
            "                                                                                                  \n",
            " conv2d_9 (Conv2D)              (None, 12, 12, 128)  32896       ['concatenate[0][0]']            \n",
            "                                                                                                  \n",
            " conv2d_11 (Conv2D)             (None, 12, 12, 192)  221376      ['conv2d_10[0][0]']              \n",
            "                                                                                                  \n",
            " conv2d_13 (Conv2D)             (None, 12, 12, 96)   76896       ['conv2d_12[0][0]']              \n",
            "                                                                                                  \n",
            " conv2d_14 (Conv2D)             (None, 12, 12, 64)   16448       ['max_pooling2d_3[0][0]']        \n",
            "                                                                                                  \n",
            " concatenate_1 (Concatenate)    (None, 12, 12, 480)  0           ['conv2d_9[0][0]',               \n",
            "                                                                  'conv2d_11[0][0]',              \n",
            "                                                                  'conv2d_13[0][0]',              \n",
            "                                                                  'conv2d_14[0][0]']              \n",
            "                                                                                                  \n",
            " max_pooling2d_4 (MaxPooling2D)  (None, 6, 6, 480)   0           ['concatenate_1[0][0]']          \n",
            "                                                                                                  \n",
            " conv2d_16 (Conv2D)             (None, 6, 6, 96)     46176       ['max_pooling2d_4[0][0]']        \n",
            "                                                                                                  \n",
            " conv2d_18 (Conv2D)             (None, 6, 6, 16)     7696        ['max_pooling2d_4[0][0]']        \n",
            "                                                                                                  \n",
            " max_pooling2d_5 (MaxPooling2D)  (None, 6, 6, 480)   0           ['max_pooling2d_4[0][0]']        \n",
            "                                                                                                  \n",
            " conv2d_15 (Conv2D)             (None, 6, 6, 192)    92352       ['max_pooling2d_4[0][0]']        \n",
            "                                                                                                  \n",
            " conv2d_17 (Conv2D)             (None, 6, 6, 208)    179920      ['conv2d_16[0][0]']              \n",
            "                                                                                                  \n",
            " conv2d_19 (Conv2D)             (None, 6, 6, 48)     19248       ['conv2d_18[0][0]']              \n",
            "                                                                                                  \n",
            " conv2d_20 (Conv2D)             (None, 6, 6, 64)     30784       ['max_pooling2d_5[0][0]']        \n",
            "                                                                                                  \n",
            " concatenate_2 (Concatenate)    (None, 6, 6, 512)    0           ['conv2d_15[0][0]',              \n",
            "                                                                  'conv2d_17[0][0]',              \n",
            "                                                                  'conv2d_19[0][0]',              \n",
            "                                                                  'conv2d_20[0][0]']              \n",
            "                                                                                                  \n",
            " conv2d_22 (Conv2D)             (None, 6, 6, 112)    57456       ['concatenate_2[0][0]']          \n",
            "                                                                                                  \n",
            " conv2d_24 (Conv2D)             (None, 6, 6, 24)     12312       ['concatenate_2[0][0]']          \n",
            "                                                                                                  \n",
            " max_pooling2d_6 (MaxPooling2D)  (None, 6, 6, 512)   0           ['concatenate_2[0][0]']          \n",
            "                                                                                                  \n",
            " conv2d_21 (Conv2D)             (None, 6, 6, 160)    82080       ['concatenate_2[0][0]']          \n",
            "                                                                                                  \n",
            " conv2d_23 (Conv2D)             (None, 6, 6, 224)    226016      ['conv2d_22[0][0]']              \n",
            "                                                                                                  \n",
            " conv2d_25 (Conv2D)             (None, 6, 6, 64)     38464       ['conv2d_24[0][0]']              \n",
            "                                                                                                  \n",
            " conv2d_26 (Conv2D)             (None, 6, 6, 64)     32832       ['max_pooling2d_6[0][0]']        \n",
            "                                                                                                  \n",
            " concatenate_3 (Concatenate)    (None, 6, 6, 512)    0           ['conv2d_21[0][0]',              \n",
            "                                                                  'conv2d_23[0][0]',              \n",
            "                                                                  'conv2d_25[0][0]',              \n",
            "                                                                  'conv2d_26[0][0]']              \n",
            "                                                                                                  \n",
            " conv2d_28 (Conv2D)             (None, 6, 6, 128)    65664       ['concatenate_3[0][0]']          \n",
            "                                                                                                  \n",
            " conv2d_30 (Conv2D)             (None, 6, 6, 24)     12312       ['concatenate_3[0][0]']          \n",
            "                                                                                                  \n",
            " max_pooling2d_7 (MaxPooling2D)  (None, 6, 6, 512)   0           ['concatenate_3[0][0]']          \n",
            "                                                                                                  \n",
            " conv2d_27 (Conv2D)             (None, 6, 6, 128)    65664       ['concatenate_3[0][0]']          \n",
            "                                                                                                  \n",
            " conv2d_29 (Conv2D)             (None, 6, 6, 256)    295168      ['conv2d_28[0][0]']              \n",
            "                                                                                                  \n",
            " conv2d_31 (Conv2D)             (None, 6, 6, 64)     38464       ['conv2d_30[0][0]']              \n",
            "                                                                                                  \n",
            " conv2d_32 (Conv2D)             (None, 6, 6, 64)     32832       ['max_pooling2d_7[0][0]']        \n",
            "                                                                                                  \n",
            " concatenate_4 (Concatenate)    (None, 6, 6, 512)    0           ['conv2d_27[0][0]',              \n",
            "                                                                  'conv2d_29[0][0]',              \n",
            "                                                                  'conv2d_31[0][0]',              \n",
            "                                                                  'conv2d_32[0][0]']              \n",
            "                                                                                                  \n",
            " conv2d_34 (Conv2D)             (None, 6, 6, 144)    73872       ['concatenate_4[0][0]']          \n",
            "                                                                                                  \n",
            " conv2d_36 (Conv2D)             (None, 6, 6, 32)     16416       ['concatenate_4[0][0]']          \n",
            "                                                                                                  \n",
            " max_pooling2d_8 (MaxPooling2D)  (None, 6, 6, 512)   0           ['concatenate_4[0][0]']          \n",
            "                                                                                                  \n",
            " conv2d_33 (Conv2D)             (None, 6, 6, 112)    57456       ['concatenate_4[0][0]']          \n",
            "                                                                                                  \n",
            " conv2d_35 (Conv2D)             (None, 6, 6, 288)    373536      ['conv2d_34[0][0]']              \n",
            "                                                                                                  \n",
            " conv2d_37 (Conv2D)             (None, 6, 6, 64)     51264       ['conv2d_36[0][0]']              \n",
            "                                                                                                  \n",
            " conv2d_38 (Conv2D)             (None, 6, 6, 64)     32832       ['max_pooling2d_8[0][0]']        \n",
            "                                                                                                  \n",
            " concatenate_5 (Concatenate)    (None, 6, 6, 528)    0           ['conv2d_33[0][0]',              \n",
            "                                                                  'conv2d_35[0][0]',              \n",
            "                                                                  'conv2d_37[0][0]',              \n",
            "                                                                  'conv2d_38[0][0]']              \n",
            "                                                                                                  \n",
            " conv2d_40 (Conv2D)             (None, 6, 6, 160)    84640       ['concatenate_5[0][0]']          \n",
            "                                                                                                  \n",
            " conv2d_42 (Conv2D)             (None, 6, 6, 32)     16928       ['concatenate_5[0][0]']          \n",
            "                                                                                                  \n",
            " max_pooling2d_9 (MaxPooling2D)  (None, 6, 6, 528)   0           ['concatenate_5[0][0]']          \n",
            "                                                                                                  \n",
            " conv2d_39 (Conv2D)             (None, 6, 6, 256)    135424      ['concatenate_5[0][0]']          \n",
            "                                                                                                  \n",
            " conv2d_41 (Conv2D)             (None, 6, 6, 320)    461120      ['conv2d_40[0][0]']              \n",
            "                                                                                                  \n",
            " conv2d_43 (Conv2D)             (None, 6, 6, 128)    102528      ['conv2d_42[0][0]']              \n",
            "                                                                                                  \n",
            " conv2d_44 (Conv2D)             (None, 6, 6, 128)    67712       ['max_pooling2d_9[0][0]']        \n",
            "                                                                                                  \n",
            " concatenate_6 (Concatenate)    (None, 6, 6, 832)    0           ['conv2d_39[0][0]',              \n",
            "                                                                  'conv2d_41[0][0]',              \n",
            "                                                                  'conv2d_43[0][0]',              \n",
            "                                                                  'conv2d_44[0][0]']              \n",
            "                                                                                                  \n",
            " max_pooling2d_10 (MaxPooling2D  (None, 3, 3, 832)   0           ['concatenate_6[0][0]']          \n",
            " )                                                                                                \n",
            "                                                                                                  \n",
            " conv2d_46 (Conv2D)             (None, 3, 3, 160)    133280      ['max_pooling2d_10[0][0]']       \n",
            "                                                                                                  \n",
            " conv2d_48 (Conv2D)             (None, 3, 3, 32)     26656       ['max_pooling2d_10[0][0]']       \n",
            "                                                                                                  \n",
            " max_pooling2d_11 (MaxPooling2D  (None, 3, 3, 832)   0           ['max_pooling2d_10[0][0]']       \n",
            " )                                                                                                \n",
            "                                                                                                  \n",
            " conv2d_45 (Conv2D)             (None, 3, 3, 256)    213248      ['max_pooling2d_10[0][0]']       \n",
            "                                                                                                  \n",
            " conv2d_47 (Conv2D)             (None, 3, 3, 320)    461120      ['conv2d_46[0][0]']              \n",
            "                                                                                                  \n",
            " conv2d_49 (Conv2D)             (None, 3, 3, 128)    102528      ['conv2d_48[0][0]']              \n",
            "                                                                                                  \n",
            " conv2d_50 (Conv2D)             (None, 3, 3, 128)    106624      ['max_pooling2d_11[0][0]']       \n",
            "                                                                                                  \n",
            " concatenate_7 (Concatenate)    (None, 3, 3, 832)    0           ['conv2d_45[0][0]',              \n",
            "                                                                  'conv2d_47[0][0]',              \n",
            "                                                                  'conv2d_49[0][0]',              \n",
            "                                                                  'conv2d_50[0][0]']              \n",
            "                                                                                                  \n",
            " conv2d_52 (Conv2D)             (None, 3, 3, 192)    159936      ['concatenate_7[0][0]']          \n",
            "                                                                                                  \n",
            " conv2d_54 (Conv2D)             (None, 3, 3, 48)     39984       ['concatenate_7[0][0]']          \n",
            "                                                                                                  \n",
            " max_pooling2d_12 (MaxPooling2D  (None, 3, 3, 832)   0           ['concatenate_7[0][0]']          \n",
            " )                                                                                                \n",
            "                                                                                                  \n",
            " conv2d_51 (Conv2D)             (None, 3, 3, 384)    319872      ['concatenate_7[0][0]']          \n",
            "                                                                                                  \n",
            " conv2d_53 (Conv2D)             (None, 3, 3, 384)    663936      ['conv2d_52[0][0]']              \n",
            "                                                                                                  \n",
            " conv2d_55 (Conv2D)             (None, 3, 3, 128)    153728      ['conv2d_54[0][0]']              \n",
            "                                                                                                  \n",
            " conv2d_56 (Conv2D)             (None, 3, 3, 128)    106624      ['max_pooling2d_12[0][0]']       \n",
            "                                                                                                  \n",
            " concatenate_8 (Concatenate)    (None, 3, 3, 1024)   0           ['conv2d_51[0][0]',              \n",
            "                                                                  'conv2d_53[0][0]',              \n",
            "                                                                  'conv2d_55[0][0]',              \n",
            "                                                                  'conv2d_56[0][0]']              \n",
            "                                                                                                  \n",
            " dropout (Dropout)              (None, 3, 3, 1024)   0           ['concatenate_8[0][0]']          \n",
            "                                                                                                  \n",
            " flatten (Flatten)              (None, 9216)         0           ['dropout[0][0]']                \n",
            "                                                                                                  \n",
            " dense (Dense)                  (None, 4)            36868       ['flatten[0][0]']                \n",
            "                                                                                                  \n",
            "==================================================================================================\n",
            "Total params: 6,004,148\n",
            "Trainable params: 6,004,148\n",
            "Non-trainable params: 0\n",
            "__________________________________________________________________________________________________\n"
          ]
        }
      ],
      "source": [
        "### --- Summary and compilying the Google net model\n",
        "\n",
        "input_shape = 100, 100, 1\n",
        "n_classes = 4\n",
        "\n",
        "K.clear_session()\n",
        "model_google_net = googlenet(input_shape, n_classes)\n",
        "model_google_net.compile(loss='categorical_crossentropy',\n",
        "              optimizer='adam',\n",
        "              metrics=['accuracy'])\n",
        "model_google_net.summary()"
      ]
    },
    {
      "cell_type": "code",
      "execution_count": null,
      "metadata": {
        "colab": {
          "background_save": true,
          "base_uri": "https://localhost:8080/"
        },
        "id": "_pRYnPnmXcma",
        "outputId": "2139aabe-300e-4324-eba7-81a0da5b31e5"
      },
      "outputs": [
        {
          "name": "stdout",
          "output_type": "stream",
          "text": [
            "Epoch 1/15\n",
            "88/88 [==============================] - 154s 2s/step - loss: 1.5201 - accuracy: 0.2382 - val_loss: 1.3868 - val_accuracy: 0.2350\n",
            "Epoch 2/15\n",
            "88/88 [==============================] - 149s 2s/step - loss: 1.3883 - accuracy: 0.2489 - val_loss: 1.3870 - val_accuracy: 0.2550\n",
            "Epoch 3/15\n",
            "88/88 [==============================] - 149s 2s/step - loss: 1.3878 - accuracy: 0.2443 - val_loss: 1.3868 - val_accuracy: 0.2350\n",
            "Epoch 4/15\n",
            "88/88 [==============================] - 149s 2s/step - loss: 1.3875 - accuracy: 0.2400 - val_loss: 1.3872 - val_accuracy: 0.2350\n",
            "Epoch 5/15\n",
            "88/88 [==============================] - 148s 2s/step - loss: 1.3864 - accuracy: 0.2529 - val_loss: 1.3871 - val_accuracy: 0.2350\n",
            "Epoch 6/15\n",
            "88/88 [==============================] - 148s 2s/step - loss: 1.4029 - accuracy: 0.2529 - val_loss: 1.3951 - val_accuracy: 0.2350\n",
            "Epoch 7/15\n",
            "88/88 [==============================] - 148s 2s/step - loss: 1.3880 - accuracy: 0.2521 - val_loss: 1.3868 - val_accuracy: 0.2350\n",
            "Epoch 8/15\n",
            "88/88 [==============================] - 147s 2s/step - loss: 1.4285 - accuracy: 0.2407 - val_loss: 1.3917 - val_accuracy: 0.2350\n",
            "Epoch 9/15\n",
            "88/88 [==============================] - 147s 2s/step - loss: 1.3873 - accuracy: 0.2432 - val_loss: 1.3869 - val_accuracy: 0.2533\n",
            "Epoch 10/15\n",
            "88/88 [==============================] - 147s 2s/step - loss: 1.3875 - accuracy: 0.2532 - val_loss: 1.3861 - val_accuracy: 0.2533\n",
            "Epoch 11/15\n",
            "88/88 [==============================] - 147s 2s/step - loss: 1.3884 - accuracy: 0.2404 - val_loss: 1.3867 - val_accuracy: 0.2533\n",
            "Epoch 12/15\n",
            "88/88 [==============================] - 148s 2s/step - loss: 1.3867 - accuracy: 0.2307 - val_loss: 1.3864 - val_accuracy: 0.2350\n",
            "Epoch 13/15\n",
            "88/88 [==============================] - 147s 2s/step - loss: 1.3866 - accuracy: 0.2536 - val_loss: 1.3866 - val_accuracy: 0.2533\n",
            "Epoch 14/15\n",
            "88/88 [==============================] - 147s 2s/step - loss: 1.3863 - accuracy: 0.2575 - val_loss: 1.3869 - val_accuracy: 0.2350\n",
            "Epoch 15/15\n",
            "88/88 [==============================] - 147s 2s/step - loss: 1.3866 - accuracy: 0.2536 - val_loss: 1.3869 - val_accuracy: 0.2350\n"
          ]
        }
      ],
      "source": [
        "### --- Training the Google net model\n",
        "\n",
        "model_Google_net = model_google_net.fit(X_train_q3, y_train_q3, epochs = 15, validation_data=(X_valid_q3, y_valid_q3))"
      ]
    },
    {
      "cell_type": "code",
      "execution_count": null,
      "metadata": {
        "colab": {
          "background_save": true,
          "base_uri": "https://localhost:8080/"
        },
        "id": "31kiirlS0t0_",
        "outputId": "e1a30cb1-16bd-4aaf-ca7b-7927aefdc199"
      },
      "outputs": [
        {
          "name": "stdout",
          "output_type": "stream",
          "text": [
            "19/19 [==============================] - 6s 332ms/step - loss: 1.3869 - accuracy: 0.2350\n",
            "Validation score: 1.386915683746338\n",
            "Validation accuracy: 0.23499999940395355\n"
          ]
        }
      ],
      "source": [
        "### --- Evaluating the Google net model\n",
        "\n",
        "score, acc = model_google_net.evaluate(X_valid_q3, y_valid_q3)\n",
        "\n",
        "print('Validation score:', score)\n",
        "print('Validation accuracy:', acc)"
      ]
    },
    {
      "cell_type": "markdown",
      "metadata": {
        "id": "dQZ7RmOWHvvs"
      },
      "source": [
        "# Question 6\n",
        "*Compare the models you have created so far (both RNNs and CNNs) and make a selection (making sure to justify this). Train that model on a combined training and validation set and evaluate it on your test set.*"
      ]
    },
    {
      "cell_type": "markdown",
      "metadata": {
        "id": "_1iwYQaPrPRO"
      },
      "source": [
        "After trying out different layers and elements in the RNN model, such as a simple RNN model, LSTM model, GRUs model, Conv1D model and a deeper RNN model, the model with the best validation accuracy was the Conv1d model with 0.89. Additionally, for the CNN different methods were used for improving the validation accuracy of the model, but the one with the best accuracy was the one with the extra layers and dropout rates. As mentioned before in the task 2 the CNN model can be more useful in predictions than the RNN model. Moreover, the validation accuracy of the CNN_2 model is 0.9067, which is higher than the validation accuracy of the RNN model. "
      ]
    },
    {
      "cell_type": "code",
      "execution_count": null,
      "metadata": {
        "colab": {
          "base_uri": "https://localhost:8080/"
        },
        "id": "_zZ4UAth1I6e",
        "outputId": "d94cc5ec-84c0-4c70-a1b6-49b12719cbec"
      },
      "outputs": [
        {
          "name": "stdout",
          "output_type": "stream",
          "text": [
            "Model: \"sequential\"\n",
            "_________________________________________________________________\n",
            " Layer (type)                Output Shape              Param #   \n",
            "=================================================================\n",
            " conv2d_6 (Conv2D)           (None, 98, 98, 32)        320       \n",
            "                                                                 \n",
            " max_pooling2d_4 (MaxPooling  (None, 32, 32, 32)       0         \n",
            " 2D)                                                             \n",
            "                                                                 \n",
            " conv2d_7 (Conv2D)           (None, 15, 15, 16)        4624      \n",
            "                                                                 \n",
            " dropout (Dropout)           (None, 15, 15, 16)        0         \n",
            "                                                                 \n",
            " conv2d_8 (Conv2D)           (None, 7, 7, 32)          4640      \n",
            "                                                                 \n",
            " dropout_1 (Dropout)         (None, 7, 7, 32)          0         \n",
            "                                                                 \n",
            " conv2d_9 (Conv2D)           (None, 5, 5, 16)          4624      \n",
            "                                                                 \n",
            " dropout_2 (Dropout)         (None, 5, 5, 16)          0         \n",
            "                                                                 \n",
            " max_pooling2d_5 (MaxPooling  (None, 1, 1, 16)         0         \n",
            " 2D)                                                             \n",
            "                                                                 \n",
            " flatten (Flatten)           (None, 16)                0         \n",
            "                                                                 \n",
            " dense_1 (Dense)             (None, 4)                 68        \n",
            "                                                                 \n",
            "=================================================================\n",
            "Total params: 14,276\n",
            "Trainable params: 14,276\n",
            "Non-trainable params: 0\n",
            "_________________________________________________________________\n"
          ]
        }
      ],
      "source": [
        "### ---  Adding one more layer and one more Dropout with 0.4\n",
        "model_task6 = Sequential([\n",
        "    Conv2D(32, kernel_size=(3, 3),strides=1,input_shape=input_shape),\n",
        "    MaxPooling2D(pool_size=(3, 3)),\n",
        "    Conv2D(16, kernel_size=(3, 3),strides=2,input_shape=input_shape), \n",
        "    Dropout(0.4),\n",
        "    Conv2D(32, kernel_size=(3, 3),strides=2),\n",
        "    Dropout(0.2),\n",
        "    Conv2D(16, kernel_size=(3, 3),strides=1,activation='relu'),  \n",
        "    Dropout(0.4),\n",
        "    MaxPooling2D(pool_size=(3, 3)),\n",
        "    Flatten(),\n",
        "    Dense(num_classes, activation='softmax')])\n",
        "\n",
        "model_task6.compile(loss='categorical_crossentropy',\n",
        "              optimizer='adam',\n",
        "              metrics=['accuracy'])\n",
        "model_task6.summary()"
      ]
    },
    {
      "cell_type": "code",
      "execution_count": null,
      "metadata": {
        "colab": {
          "base_uri": "https://localhost:8080/"
        },
        "id": "17BMdNRW1JBL",
        "outputId": "ca0a8907-bcaa-4f81-dc12-b1eb13ee01eb"
      },
      "outputs": [
        {
          "name": "stdout",
          "output_type": "stream",
          "text": [
            "Epoch 1/20\n",
            "94/94 [==============================] - 13s 138ms/step - loss: 0.2758 - accuracy: 0.8807 - val_loss: 0.2457 - val_accuracy: 0.9067\n",
            "Epoch 2/20\n",
            "94/94 [==============================] - 13s 136ms/step - loss: 0.2770 - accuracy: 0.8879 - val_loss: 0.2435 - val_accuracy: 0.9050\n",
            "Epoch 3/20\n",
            "94/94 [==============================] - 13s 136ms/step - loss: 0.2850 - accuracy: 0.8804 - val_loss: 0.2866 - val_accuracy: 0.8850\n",
            "Epoch 4/20\n",
            "94/94 [==============================] - 13s 136ms/step - loss: 0.2749 - accuracy: 0.8807 - val_loss: 0.2525 - val_accuracy: 0.9067\n",
            "Epoch 5/20\n",
            "94/94 [==============================] - 13s 136ms/step - loss: 0.2641 - accuracy: 0.8875 - val_loss: 0.2531 - val_accuracy: 0.9083\n",
            "Epoch 6/20\n",
            "94/94 [==============================] - 13s 136ms/step - loss: 0.2626 - accuracy: 0.8864 - val_loss: 0.2429 - val_accuracy: 0.9083\n",
            "Epoch 7/20\n",
            "94/94 [==============================] - 13s 137ms/step - loss: 0.2871 - accuracy: 0.8768 - val_loss: 0.2738 - val_accuracy: 0.8850\n",
            "Epoch 8/20\n",
            "94/94 [==============================] - 13s 136ms/step - loss: 0.2708 - accuracy: 0.8850 - val_loss: 0.2459 - val_accuracy: 0.9067\n",
            "Epoch 9/20\n",
            "94/94 [==============================] - 13s 137ms/step - loss: 0.2751 - accuracy: 0.8921 - val_loss: 0.2382 - val_accuracy: 0.9067\n",
            "Epoch 10/20\n",
            "94/94 [==============================] - 13s 137ms/step - loss: 0.2645 - accuracy: 0.8861 - val_loss: 0.2409 - val_accuracy: 0.9067\n",
            "Epoch 11/20\n",
            "94/94 [==============================] - 13s 137ms/step - loss: 0.2586 - accuracy: 0.8871 - val_loss: 0.2467 - val_accuracy: 0.9067\n",
            "Epoch 12/20\n",
            "94/94 [==============================] - 13s 136ms/step - loss: 0.2629 - accuracy: 0.8914 - val_loss: 0.2535 - val_accuracy: 0.9033\n",
            "Epoch 13/20\n",
            "94/94 [==============================] - 13s 136ms/step - loss: 0.2682 - accuracy: 0.8857 - val_loss: 0.2407 - val_accuracy: 0.9067\n",
            "Epoch 14/20\n",
            "94/94 [==============================] - 13s 136ms/step - loss: 0.2693 - accuracy: 0.8911 - val_loss: 0.2679 - val_accuracy: 0.8950\n",
            "Epoch 15/20\n",
            "94/94 [==============================] - 13s 136ms/step - loss: 0.2590 - accuracy: 0.8857 - val_loss: 0.2469 - val_accuracy: 0.9033\n",
            "Epoch 16/20\n",
            "94/94 [==============================] - 13s 137ms/step - loss: 0.2544 - accuracy: 0.8900 - val_loss: 0.2544 - val_accuracy: 0.9067\n",
            "Epoch 17/20\n",
            "94/94 [==============================] - 13s 137ms/step - loss: 0.2466 - accuracy: 0.8925 - val_loss: 0.2476 - val_accuracy: 0.9067\n",
            "Epoch 18/20\n",
            "94/94 [==============================] - 13s 137ms/step - loss: 0.2450 - accuracy: 0.8907 - val_loss: 0.2543 - val_accuracy: 0.9050\n",
            "Epoch 19/20\n",
            "94/94 [==============================] - 13s 137ms/step - loss: 0.2426 - accuracy: 0.8975 - val_loss: 0.2443 - val_accuracy: 0.9067\n",
            "Epoch 20/20\n",
            "94/94 [==============================] - 13s 137ms/step - loss: 0.2349 - accuracy: 0.8943 - val_loss: 0.2531 - val_accuracy: 0.9067\n"
          ]
        }
      ],
      "source": [
        "model_Task6 = model_CNN_2.fit(X_train_q3, y_train_q3, epochs = 20, validation_data=(X_valid_q3, y_valid_q3)) "
      ]
    },
    {
      "cell_type": "code",
      "execution_count": null,
      "metadata": {
        "colab": {
          "base_uri": "https://localhost:8080/",
          "height": 265
        },
        "id": "I9E7mLbV1JHx",
        "outputId": "c05dc21d-f0ff-4748-9ef7-dd5cb9391060"
      },
      "outputs": [
        {
          "data": {
            "image/png": "[encoded data removed]",
            "text/plain": [
              "<Figure size 432x288 with 1 Axes>"
            ]
          },
          "metadata": {},
          "output_type": "display_data"
        }
      ],
      "source": [
        "### --- Plotting the model of task 6\n",
        "plt.plot(model_Task6.history['loss'], label = 'training accuracy')\n",
        "plt.plot(model_Task6.history['val_loss'], label = 'validation accuracy')\n",
        "plt.legend()\n",
        "plt.show()"
      ]
    },
    {
      "cell_type": "code",
      "execution_count": null,
      "metadata": {
        "colab": {
          "base_uri": "https://localhost:8080/"
        },
        "id": "kWuvB7nXH0te",
        "outputId": "5f89a3ab-44c3-458d-8edd-53daa1ddb1ed"
      },
      "outputs": [
        {
          "name": "stdout",
          "output_type": "stream",
          "text": [
            "Test loss: 8.95422649383545\n",
            "Test accuracy: 0.1599999964237213\n"
          ]
        }
      ],
      "source": [
        "### --- Evaluating the model of task 6 on the testing set\n",
        "\n",
        "test_score = model_task6.evaluate(X_test_q3, y_test_q3, verbose = 0)\n",
        "\n",
        "### --- Printing the results\n",
        "print('Test loss:', test_score[0])\n",
        "print('Test accuracy:', test_score[1])"
      ]
    },
    {
      "cell_type": "code",
      "execution_count": null,
      "metadata": {
        "id": "uEcTSK0HGuZU"
      },
      "outputs": [],
      "source": [
        "### --- saving the task 6 model\n",
        "\n",
        "model_task6.save(\"model.h5\")\n",
        "\n"
      ]
    }
  ],
  "metadata": {
    "colab": {
      "background_execution": "on",
      "collapsed_sections": [],
      "name": "try.ipynb",
      "provenance": [],
      "toc_visible": true
    },
    "interpreter": {
      "hash": "40d3a090f54c6569ab1632332b64b2c03c39dcf918b08424e98f38b5ae0af88f"
    },
    "kernelspec": {
      "display_name": "Python 3.8.8 64-bit ('base': conda)",
      "language": "python",
      "name": "python3"
    },
    "language_info": {
      "codemirror_mode": {
        "name": "ipython",
        "version": 3
      },
      "file_extension": ".py",
      "mimetype": "text/x-python",
      "name": "python",
      "nbconvert_exporter": "python",
      "pygments_lexer": "ipython3",
      "version": "3.8.12"
    }
  },
  "nbformat": 4,
  "nbformat_minor": 0
}
